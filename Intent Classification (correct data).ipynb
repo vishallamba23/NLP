{
 "cells": [
  {
   "cell_type": "code",
   "execution_count": 1,
   "metadata": {},
   "outputs": [
    {
     "name": "stderr",
     "output_type": "stream",
     "text": [
      "Using TensorFlow backend.\n"
     ]
    }
   ],
   "source": [
    "import numpy as np\n",
    "import pandas as pd\n",
    "import matplotlib.pyplot as plt\n",
    "from nltk.corpus import stopwords\n",
    "from nltk.tokenize import word_tokenize\n",
    "import nltk\n",
    "import re\n",
    "from sklearn.preprocessing import OneHotEncoder\n",
    "from keras.preprocessing.text import Tokenizer\n",
    "from keras.preprocessing.sequence import pad_sequences\n",
    "from keras.utils import to_categorical\n",
    "from keras.models import Sequential, load_model\n",
    "from keras.layers import Dense, LSTM, Bidirectional, Embedding, Dropout\n",
    "from keras.callbacks import ModelCheckpoint\n",
    "\n",
    "%matplotlib inline"
   ]
  },
  {
   "cell_type": "code",
   "execution_count": 2,
   "metadata": {},
   "outputs": [
    {
     "data": {
      "text/html": [
       "<div>\n",
       "<style scoped>\n",
       "    .dataframe tbody tr th:only-of-type {\n",
       "        vertical-align: middle;\n",
       "    }\n",
       "\n",
       "    .dataframe tbody tr th {\n",
       "        vertical-align: top;\n",
       "    }\n",
       "\n",
       "    .dataframe thead th {\n",
       "        text-align: right;\n",
       "    }\n",
       "</style>\n",
       "<table border=\"1\" class=\"dataframe\">\n",
       "  <thead>\n",
       "    <tr style=\"text-align: right;\">\n",
       "      <th></th>\n",
       "      <th>data</th>\n",
       "      <th>label</th>\n",
       "      <th>new_label</th>\n",
       "    </tr>\n",
       "  </thead>\n",
       "  <tbody>\n",
       "    <tr>\n",
       "      <th>0</th>\n",
       "      <td>{'id': 'KG0OUA', 'data': 'Good morning', 'message_order': 2, 'comments': ['']}</td>\n",
       "      <td>location</td>\n",
       "      <td>3</td>\n",
       "    </tr>\n",
       "    <tr>\n",
       "      <th>1</th>\n",
       "      <td>{'id': 'L9DC9H', 'data': 'Location', 'message_order': 5, 'comments': ['']}</td>\n",
       "      <td>whoAreYou</td>\n",
       "      <td>1</td>\n",
       "    </tr>\n",
       "    <tr>\n",
       "      <th>2</th>\n",
       "      <td>{'id': 'ZQR6R5', 'data': 'hi', 'message_order': 5, 'comments': ['']}</td>\n",
       "      <td>whoAreYou</td>\n",
       "      <td>3</td>\n",
       "    </tr>\n",
       "    <tr>\n",
       "      <th>3</th>\n",
       "      <td>{'id': 'RH0M4E', 'data': 'Hi', 'message_order': 4, 'comments': ['']}</td>\n",
       "      <td>greeting</td>\n",
       "      <td>3</td>\n",
       "    </tr>\n",
       "    <tr>\n",
       "      <th>4</th>\n",
       "      <td>{'id': 'WLVX8I', 'data': 'Hello', 'message_order': 1, 'comments': ['']}</td>\n",
       "      <td>greeting</td>\n",
       "      <td>3</td>\n",
       "    </tr>\n",
       "  </tbody>\n",
       "</table>\n",
       "</div>"
      ],
      "text/plain": [
       "                                                                             data  \\\n",
       "0  {'id': 'KG0OUA', 'data': 'Good morning', 'message_order': 2, 'comments': ['']}   \n",
       "1  {'id': 'L9DC9H', 'data': 'Location', 'message_order': 5, 'comments': ['']}       \n",
       "2  {'id': 'ZQR6R5', 'data': 'hi', 'message_order': 5, 'comments': ['']}             \n",
       "3  {'id': 'RH0M4E', 'data': 'Hi', 'message_order': 4, 'comments': ['']}             \n",
       "4  {'id': 'WLVX8I', 'data': 'Hello', 'message_order': 1, 'comments': ['']}          \n",
       "\n",
       "       label  new_label  \n",
       "0  location   3          \n",
       "1  whoAreYou  1          \n",
       "2  whoAreYou  3          \n",
       "3  greeting   3          \n",
       "4  greeting   3          "
      ]
     },
     "execution_count": 2,
     "metadata": {},
     "output_type": "execute_result"
    }
   ],
   "source": [
    "df = pd.read_csv('TakeHome_task_data.csv')\n",
    "pd.set_option('display.max_colwidth', -1)\n",
    "df.head(5)"
   ]
  },
  {
   "cell_type": "code",
   "execution_count": 3,
   "metadata": {},
   "outputs": [
    {
     "data": {
      "text/html": [
       "<div>\n",
       "<style scoped>\n",
       "    .dataframe tbody tr th:only-of-type {\n",
       "        vertical-align: middle;\n",
       "    }\n",
       "\n",
       "    .dataframe tbody tr th {\n",
       "        vertical-align: top;\n",
       "    }\n",
       "\n",
       "    .dataframe thead th {\n",
       "        text-align: right;\n",
       "    }\n",
       "</style>\n",
       "<table border=\"1\" class=\"dataframe\">\n",
       "  <thead>\n",
       "    <tr style=\"text-align: right;\">\n",
       "      <th></th>\n",
       "      <th>text</th>\n",
       "      <th>message_order</th>\n",
       "      <th>label</th>\n",
       "    </tr>\n",
       "  </thead>\n",
       "  <tbody>\n",
       "    <tr>\n",
       "      <th>0</th>\n",
       "      <td>'Good morning'</td>\n",
       "      <td>2</td>\n",
       "      <td>3</td>\n",
       "    </tr>\n",
       "    <tr>\n",
       "      <th>1</th>\n",
       "      <td>'Location'</td>\n",
       "      <td>5</td>\n",
       "      <td>1</td>\n",
       "    </tr>\n",
       "    <tr>\n",
       "      <th>2</th>\n",
       "      <td>'hi'</td>\n",
       "      <td>5</td>\n",
       "      <td>3</td>\n",
       "    </tr>\n",
       "    <tr>\n",
       "      <th>3</th>\n",
       "      <td>'Hi'</td>\n",
       "      <td>4</td>\n",
       "      <td>3</td>\n",
       "    </tr>\n",
       "    <tr>\n",
       "      <th>4</th>\n",
       "      <td>'Hello'</td>\n",
       "      <td>1</td>\n",
       "      <td>3</td>\n",
       "    </tr>\n",
       "  </tbody>\n",
       "</table>\n",
       "</div>"
      ],
      "text/plain": [
       "              text  message_order  label\n",
       "0   'Good morning'  2              3    \n",
       "1   'Location'      5              1    \n",
       "2   'hi'            5              3    \n",
       "3   'Hi'            4              3    \n",
       "4   'Hello'         1              3    "
      ]
     },
     "execution_count": 3,
     "metadata": {},
     "output_type": "execute_result"
    }
   ],
   "source": [
    "#obtaining the important parts of the data from the csv file i.e 'message', 'message_order', 'intent label'\n",
    "\n",
    "ndf = df['data'].str.split(',')\n",
    "\n",
    "ndata = list()\n",
    "for i in range(ndf.size):\n",
    "    ndata.append(ndf[i][1])\n",
    "    \n",
    "final_data = list()\n",
    "for i in range(len(ndata)):\n",
    "    final_data.append(ndata[i].split(':')[1])\n",
    "    \n",
    "m_order = list()\n",
    "for i in range(ndf.size):\n",
    "    if i in (75, 247, 458, 464, 631, 1269, 1459, 1601, 1651, 1803, 1918): #a bit crude but works for now\n",
    "        m_order.append(ndf[i][3])\n",
    "    else:\n",
    "        m_order.append(ndf[i][2])\n",
    "    \n",
    "final_m_order = list()\n",
    "for i in range(len(m_order)):\n",
    "    final_m_order.append(m_order[i].split(':')[1])\n",
    "\n",
    "    \n",
    "data = pd.DataFrame(final_data, columns = ['text']).assign(message_order = final_m_order)\n",
    "data = data.assign(label = df.label)\n",
    "data.text = data.text.apply(str)\n",
    "data.message_order = pd.to_numeric(data.message_order)\n",
    "data = data.assign(label = df.new_label)\n",
    "\n",
    "data.head(5)"
   ]
  },
  {
   "cell_type": "code",
   "execution_count": 4,
   "metadata": {},
   "outputs": [
    {
     "data": {
      "text/plain": [
       "[1, 2, 3, 4, 5, 6]"
      ]
     },
     "execution_count": 4,
     "metadata": {},
     "output_type": "execute_result"
    }
   ],
   "source": [
    "intent = data.label\n",
    "unique_intents = list(set(data.label))\n",
    "unique_intents"
   ]
  },
  {
   "cell_type": "code",
   "execution_count": 5,
   "metadata": {},
   "outputs": [],
   "source": [
    "my_map = {'location': 1,'saidOK': 2, 'greeting' : 3, 'dontMeetRequirements' : 4, 'notInterested' : 5, 'hasLL' : 6}\n",
    "inv_map = {v: k for k, v in my_map.items()}"
   ]
  },
  {
   "cell_type": "code",
   "execution_count": 6,
   "metadata": {},
   "outputs": [],
   "source": [
    "#Converting numeric labels to their corresponding text based label\n",
    "\n",
    "text_labels = list([inv_map[key] for key in data.label])\n",
    "data['text_label'] = text_labels"
   ]
  },
  {
   "cell_type": "code",
   "execution_count": 7,
   "metadata": {},
   "outputs": [
    {
     "data": {
      "text/html": [
       "<div>\n",
       "<style scoped>\n",
       "    .dataframe tbody tr th:only-of-type {\n",
       "        vertical-align: middle;\n",
       "    }\n",
       "\n",
       "    .dataframe tbody tr th {\n",
       "        vertical-align: top;\n",
       "    }\n",
       "\n",
       "    .dataframe thead th {\n",
       "        text-align: right;\n",
       "    }\n",
       "</style>\n",
       "<table border=\"1\" class=\"dataframe\">\n",
       "  <thead>\n",
       "    <tr style=\"text-align: right;\">\n",
       "      <th></th>\n",
       "      <th>text</th>\n",
       "      <th>message_order</th>\n",
       "      <th>label</th>\n",
       "      <th>text_label</th>\n",
       "    </tr>\n",
       "  </thead>\n",
       "  <tbody>\n",
       "    <tr>\n",
       "      <th>0</th>\n",
       "      <td>'Good morning'</td>\n",
       "      <td>2</td>\n",
       "      <td>3</td>\n",
       "      <td>greeting</td>\n",
       "    </tr>\n",
       "    <tr>\n",
       "      <th>1</th>\n",
       "      <td>'Location'</td>\n",
       "      <td>5</td>\n",
       "      <td>1</td>\n",
       "      <td>location</td>\n",
       "    </tr>\n",
       "    <tr>\n",
       "      <th>2</th>\n",
       "      <td>'hi'</td>\n",
       "      <td>5</td>\n",
       "      <td>3</td>\n",
       "      <td>greeting</td>\n",
       "    </tr>\n",
       "    <tr>\n",
       "      <th>3</th>\n",
       "      <td>'Hi'</td>\n",
       "      <td>4</td>\n",
       "      <td>3</td>\n",
       "      <td>greeting</td>\n",
       "    </tr>\n",
       "    <tr>\n",
       "      <th>4</th>\n",
       "      <td>'Hello'</td>\n",
       "      <td>1</td>\n",
       "      <td>3</td>\n",
       "      <td>greeting</td>\n",
       "    </tr>\n",
       "  </tbody>\n",
       "</table>\n",
       "</div>"
      ],
      "text/plain": [
       "              text  message_order  label text_label\n",
       "0   'Good morning'  2              3      greeting \n",
       "1   'Location'      5              1      location \n",
       "2   'hi'            5              3      greeting \n",
       "3   'Hi'            4              3      greeting \n",
       "4   'Hello'         1              3      greeting "
      ]
     },
     "execution_count": 7,
     "metadata": {},
     "output_type": "execute_result"
    }
   ],
   "source": [
    "data.head(5)"
   ]
  },
  {
   "cell_type": "code",
   "execution_count": 8,
   "metadata": {},
   "outputs": [
    {
     "data": {
      "image/png": "[encoded data removed]",
      "text/plain": [
       "<Figure size 432x288 with 1 Axes>"
      ]
     },
     "metadata": {
      "needs_background": "light"
     },
     "output_type": "display_data"
    }
   ],
   "source": [
    "#Visualizing distribution of intent classification over message_orders (the dataset has fewer examples with class = 4,5)\n",
    "\n",
    "x = np.array(data.message_order)\n",
    "y = np.array(data.text_label)\n",
    "\n",
    "plt.xlabel('Message Order')\n",
    "plt.ylabel('Intent Class')\n",
    "\n",
    "plt.scatter(x,y, alpha = 0.007)\n",
    "plt.show()"
   ]
  },
  {
   "cell_type": "code",
   "execution_count": 9,
   "metadata": {},
   "outputs": [
    {
     "name": "stdout",
     "output_type": "stream",
     "text": [
      "Examples of class 1 = 233\n",
      "Examples of class 2 = 447\n",
      "Examples of class 3 = 832\n",
      "Examples of class 4 = 279\n",
      "Examples of class 5 = 111\n",
      "Examples of class 6 = 98\n"
     ]
    }
   ],
   "source": [
    "message = np.array(data.text)\n",
    "message_order = np.array(data.message_order)\n",
    "labels = np.array(data.label)\n",
    "\n",
    "for i in range(6):\n",
    "    print('Examples of class ' + str(i+1) + ' =', np.sum(labels == i+1))"
   ]
  },
  {
   "cell_type": "code",
   "execution_count": 10,
   "metadata": {},
   "outputs": [
    {
     "name": "stderr",
     "output_type": "stream",
     "text": [
      "[nltk_data] Downloading package stopwords to\n",
      "[nltk_data]     C:\\Users\\asus\\AppData\\Roaming\\nltk_data...\n",
      "[nltk_data]   Package stopwords is already up-to-date!\n",
      "[nltk_data] Downloading package punkt to\n",
      "[nltk_data]     C:\\Users\\asus\\AppData\\Roaming\\nltk_data...\n",
      "[nltk_data]   Package punkt is already up-to-date!\n"
     ]
    },
    {
     "data": {
      "text/plain": [
       "True"
      ]
     },
     "execution_count": 10,
     "metadata": {},
     "output_type": "execute_result"
    }
   ],
   "source": [
    "nltk.download(\"stopwords\")\n",
    "nltk.download(\"punkt\")"
   ]
  },
  {
   "cell_type": "code",
   "execution_count": null,
   "metadata": {},
   "outputs": [],
   "source": [
    "#Approach - \n",
    "\n",
    "#1. For such short sentences, it would not be feasible to generate my own word vectors using word2vec\n",
    "\n",
    "#2. Can't use pre-trained word vectors as data has non-english words, and many misspelt words\n",
    "\n",
    "#3. So, we can use sentence vectors created from word indices in the vocabulary. Besides the aforementioned reasons,\n",
    "#here is the intuition for it- Since the users' response are directed towards a particular intent and have very less words,\n",
    "#we can expect that there are a few 'key-words' that contain most of the semantics, as there only so many ways common ways,\n",
    "#to convey the idea in 2-5 words (which is the average size of a sentence in the dataset)\n",
    "\n",
    "#4. We can even try to improve the efficiency of this method by 'baiting/influencing' the user towards a particular choice\n",
    "#of words in the way we form our counter-questions.\n",
    "\n",
    "#Onwards with the implementation-------------------------------------"
   ]
  },
  {
   "cell_type": "code",
   "execution_count": 11,
   "metadata": {},
   "outputs": [],
   "source": [
    "#shifting all data to lowercase and breaking sentences into word tokens\n",
    "\n",
    "def cleaning(message):\n",
    "    words = []\n",
    "    for s in message:\n",
    "        clean = re.sub(r'[^ a-z A-Z 0-9]', \" \", s)\n",
    "        w = word_tokenize(clean)\n",
    "        words.append([i.lower() for i in w])\n",
    "    \n",
    "    return words"
   ]
  },
  {
   "cell_type": "code",
   "execution_count": 12,
   "metadata": {},
   "outputs": [
    {
     "name": "stdout",
     "output_type": "stream",
     "text": [
      "[['good', 'morning'], ['location'], ['hi'], ['hi'], ['hello'], ['sir'], ['k'], ['on', 'thanks'], ['hii'], ['sir', 'i', 'dnt', 'have', 'two', 'wheeler']]\n"
     ]
    }
   ],
   "source": [
    "cleaned_words = cleaning(message)\n",
    "print(cleaned_words[:10])"
   ]
  },
  {
   "cell_type": "code",
   "execution_count": 57,
   "metadata": {},
   "outputs": [
    {
     "name": "stdout",
     "output_type": "stream",
     "text": [
      "[['good', 'morning'], ['location'], ['hi'], ['hi'], ['hello'], ['sir'], ['ok'], ['on', 'thanks'], ['hi'], ['sir', 'i', 'dnt', 'have', 'two', 'wheeler']]\n"
     ]
    }
   ],
   "source": [
    "#Converts all 'kk' and 'okkk' to ok, but does not improve performance so left it out\n",
    "\n",
    "\n",
    "new_cleaned_words = []\n",
    "for words in cleaned_words:\n",
    "    new_token = []\n",
    "    for s in words:\n",
    "        s = re.sub(r'^k$', 'ok', s, count=1 )\n",
    "        s = re.sub(r'^kk+.*', 'ok', s, count=1)\n",
    "        s = re.sub(r'o+h*k.*', 'ok', s, count=1)\n",
    "        s = re.sub(r'([a-z]*)\\1([i,y])\\2+$', r'\\2', s )\n",
    "        new_token.append(s)\n",
    "        \n",
    "    new_cleaned_words.append(new_token)\n",
    "\n",
    "print(new_cleaned_words[:10])\n",
    "cleaned_words = new_cleaned_words\n",
    "\n"
   ]
  },
  {
   "cell_type": "code",
   "execution_count": null,
   "metadata": {},
   "outputs": [],
   "source": []
  },
  {
   "cell_type": "code",
   "execution_count": 14,
   "metadata": {},
   "outputs": [
    {
     "data": {
      "text/plain": [
       "array([2, 1, 1, 1, 1, 1, 1, 2, 1, 6])"
      ]
     },
     "execution_count": 14,
     "metadata": {},
     "output_type": "execute_result"
    }
   ],
   "source": [
    "#Creating feature word_count and checking its relation to the data using histogram\n",
    "\n",
    "word_count = []\n",
    "for i in range(len(cleaned_words)):\n",
    "    word_count.append(len(cleaned_words[i]))\n",
    "\n",
    "word_count = np.array(word_count)\n",
    "word_count[0:10]"
   ]
  },
  {
   "cell_type": "code",
   "execution_count": 15,
   "metadata": {},
   "outputs": [
    {
     "data": {
      "text/plain": [
       "(array([ 38.,   0., 412.,   0., 634.,   0.,  67.,   0.,  10.,  23.]),\n",
       " array([1. , 1.5, 2. , 2.5, 3. , 3.5, 4. , 4.5, 5. , 5.5, 6. ]),\n",
       " <a list of 10 Patch objects>)"
      ]
     },
     "execution_count": 15,
     "metadata": {},
     "output_type": "execute_result"
    },
    {
     "data": {
      "image/png": "[encoded data removed]",
      "text/plain": [
       "<Figure size 432x288 with 1 Axes>"
      ]
     },
     "metadata": {
      "needs_background": "light"
     },
     "output_type": "display_data"
    }
   ],
   "source": [
    "mask = (word_count <= 1)\n",
    "x = labels[mask] \n",
    "plt.hist(x)"
   ]
  },
  {
   "cell_type": "code",
   "execution_count": 16,
   "metadata": {},
   "outputs": [],
   "source": [
    "#creating feature word_count <=1\n",
    "\n",
    "one_word = ((mask <= 1)*1).reshape(mask.size,1)"
   ]
  },
  {
   "cell_type": "code",
   "execution_count": null,
   "metadata": {},
   "outputs": [],
   "source": []
  },
  {
   "cell_type": "code",
   "execution_count": 17,
   "metadata": {},
   "outputs": [
    {
     "data": {
      "text/plain": [
       "array([\" 'बाइक नहीं है'\", \" 'मेरे पास बाइक नही है'\", \" 'లేదు'\",\n",
       "       \" 'जय महाराष्ट्र'\", \" 'లేదు'\", \" 'శుభోదయం'\",\n",
       "       \" '👾 ಬೆಳಗಿನ ಶುಭೋದಯ ಗಳು'\", \" 'कुटे है'\", \" '\", \" 'नमस्कार'\",\n",
       "       \" '😉✌'\"], dtype=object)"
      ]
     },
     "execution_count": 17,
     "metadata": {},
     "output_type": "execute_result"
    }
   ],
   "source": [
    "#Non- English messages have 0 word count because of how the cleaning_sentences function was defined\n",
    "\n",
    "message[np.where(word_count == 0)]"
   ]
  },
  {
   "cell_type": "code",
   "execution_count": 18,
   "metadata": {},
   "outputs": [],
   "source": [
    "#standard keras tokenizer procedure\n",
    "\n",
    "def create_tokenizer(words, filters = '!\"#$%&()*+,-./:;<=>?@[\\]^_`{|}~'):\n",
    "  token = Tokenizer(filters = filters)\n",
    "  token.fit_on_texts(words)\n",
    "  return token"
   ]
  },
  {
   "cell_type": "code",
   "execution_count": 19,
   "metadata": {},
   "outputs": [
    {
     "name": "stdout",
     "output_type": "stream",
     "text": [
      "Vocab Size = 719 and Maximum length = 19\n"
     ]
    }
   ],
   "source": [
    "word_tokenizer = create_tokenizer(cleaned_words)\n",
    "vocab_size = len(word_tokenizer.word_index) + 1\n",
    "max_length = len(max(cleaned_words, key = len))\n",
    "\n",
    "print(\"Vocab Size = %d and Maximum length = %d\" % (vocab_size, max_length))"
   ]
  },
  {
   "cell_type": "code",
   "execution_count": 20,
   "metadata": {},
   "outputs": [
    {
     "data": {
      "text/plain": [
       "[[15, 20], [10], [2], [2]]"
      ]
     },
     "execution_count": 20,
     "metadata": {},
     "output_type": "execute_result"
    }
   ],
   "source": [
    "#obtaining the word vectors\n",
    "\n",
    "vectors = word_tokenizer.texts_to_sequences(cleaned_words)\n",
    "vectors[0:4]\n",
    "\n",
    "#using matrix decomposition of co-occurence matrix won't work well here clearly due to the nature of the 'corpus'."
   ]
  },
  {
   "cell_type": "code",
   "execution_count": 21,
   "metadata": {},
   "outputs": [],
   "source": [
    "#adding zero padding to make size of all vectors equal\n",
    "\n",
    "def padding_doc(vectors, max_length):\n",
    "  return(pad_sequences(vectors, maxlen = max_length, padding = \"post\"))\n",
    "\n",
    "padded_doc = padding_doc(vectors, max_length)"
   ]
  },
  {
   "cell_type": "code",
   "execution_count": 22,
   "metadata": {},
   "outputs": [],
   "source": [
    "#Adding message order as an input feature\n",
    "\n",
    "#message_order = message_order.reshape(2000,1)\n",
    "#padded_doc = np.append(padded_doc, message_order, axis=1)\n",
    "#padded_doc.shape"
   ]
  },
  {
   "cell_type": "code",
   "execution_count": 23,
   "metadata": {},
   "outputs": [
    {
     "data": {
      "text/plain": [
       "((2000, 21), 21)"
      ]
     },
     "execution_count": 23,
     "metadata": {},
     "output_type": "execute_result"
    }
   ],
   "source": [
    "#adding word count nad one_word as a feature\n",
    "\n",
    "word_count = np.array(word_count).reshape(2000,1)\n",
    "padded_doc = np.append(padded_doc, word_count, axis=1)\n",
    "padded_doc = np.append(padded_doc, one_word, axis=1)\n",
    "max_length = padded_doc.shape[1]\n",
    "\n",
    "padded_doc.shape, max_length"
   ]
  },
  {
   "cell_type": "code",
   "execution_count": 24,
   "metadata": {},
   "outputs": [
    {
     "data": {
      "text/plain": [
       "(2000, 1)"
      ]
     },
     "execution_count": 24,
     "metadata": {},
     "output_type": "execute_result"
    }
   ],
   "source": [
    "#using one_hot representation for intent labels\n",
    "\n",
    "labels = labels.reshape(2000,1)\n",
    "labels.shape"
   ]
  },
  {
   "cell_type": "code",
   "execution_count": 25,
   "metadata": {},
   "outputs": [
    {
     "name": "stdout",
     "output_type": "stream",
     "text": [
      "Shape of train_X = (1600, 21) and train_Y = (1600, 6)\n",
      "Shape of val_X = (400, 21) and val_Y = (400, 6)\n"
     ]
    },
    {
     "name": "stderr",
     "output_type": "stream",
     "text": [
      "C:\\Users\\asus\\Anaconda3\\envs\\deeplearning\\lib\\site-packages\\sklearn\\preprocessing\\_encoders.py:415: FutureWarning: The handling of integer data will change in version 0.22. Currently, the categories are determined based on the range [0, max(values)], while in the future they will be determined based on the unique values.\n",
      "If you want the future behaviour and silence this warning, you can specify \"categories='auto'\".\n",
      "In case you used a LabelEncoder before this OneHotEncoder to convert the categories to integers, then you can now use the OneHotEncoder directly.\n",
      "  warnings.warn(msg, FutureWarning)\n",
      "C:\\Users\\asus\\Anaconda3\\envs\\deeplearning\\lib\\site-packages\\sklearn\\preprocessing\\_encoders.py:415: FutureWarning: The handling of integer data will change in version 0.22. Currently, the categories are determined based on the range [0, max(values)], while in the future they will be determined based on the unique values.\n",
      "If you want the future behaviour and silence this warning, you can specify \"categories='auto'\".\n",
      "In case you used a LabelEncoder before this OneHotEncoder to convert the categories to integers, then you can now use the OneHotEncoder directly.\n",
      "  warnings.warn(msg, FutureWarning)\n"
     ]
    }
   ],
   "source": [
    "#Preparing the test & training set, using Stratified sampling as classes are imbalanced\n",
    "\n",
    "from sklearn.model_selection import StratifiedShuffleSplit\n",
    "\n",
    "sss = StratifiedShuffleSplit(n_splits=1, test_size=0.2, random_state=42)\n",
    "sss.get_n_splits(padded_doc, labels)\n",
    "\n",
    "for train_index, test_index in sss.split(padded_doc, labels):\n",
    "    train_X, val_X = padded_doc[train_index], padded_doc[test_index]\n",
    "    train_Y, val_Y = labels[train_index], labels[test_index]\n",
    "    \n",
    "from sklearn.preprocessing import OneHotEncoder\n",
    "encoder = OneHotEncoder(sparse=False)\n",
    "train_Y = encoder.fit_transform(train_Y)\n",
    "val_Y = encoder.fit_transform(val_Y)\n",
    "\n",
    "print(\"Shape of train_X = %s and train_Y = %s\" % (train_X.shape, train_Y.shape))\n",
    "print(\"Shape of val_X = %s and val_Y = %s\" % (val_X.shape, val_Y.shape))"
   ]
  },
  {
   "cell_type": "code",
   "execution_count": 26,
   "metadata": {},
   "outputs": [],
   "source": [
    "#At this point we have our word vectors, output labels, training and validation datasets, and we can append the\n",
    "#message_order value as a feature to the word vectors and feed the data to a model"
   ]
  },
  {
   "cell_type": "code",
   "execution_count": 27,
   "metadata": {},
   "outputs": [],
   "source": [
    "#But our data is multilingual, to deal with that, we can first separate the data based on language and then train our model"
   ]
  },
  {
   "cell_type": "code",
   "execution_count": 28,
   "metadata": {},
   "outputs": [],
   "source": [
    "#Using LSTM\n",
    "\n",
    "def create_model(vocab_size, max_length):\n",
    "  model = Sequential()\n",
    "  model.add(Embedding(vocab_size, 128, input_length = max_length, trainable = False))\n",
    "  model.add(Bidirectional(LSTM(128)))\n",
    "#   model.add(LSTM(128))\n",
    "  model.add(Dense(32, activation = \"relu\"))\n",
    "  model.add(Dropout(0.5))\n",
    "  model.add(Dense(6, activation = \"softmax\"))\n",
    "  \n",
    "  return model"
   ]
  },
  {
   "cell_type": "code",
   "execution_count": 29,
   "metadata": {},
   "outputs": [
    {
     "name": "stderr",
     "output_type": "stream",
     "text": [
      "WARNING: Logging before flag parsing goes to stderr.\n",
      "W0729 22:28:01.139873 17604 deprecation_wrapper.py:119] From C:\\Users\\asus\\Anaconda3\\envs\\deeplearning\\lib\\site-packages\\keras\\backend\\tensorflow_backend.py:74: The name tf.get_default_graph is deprecated. Please use tf.compat.v1.get_default_graph instead.\n",
      "\n",
      "W0729 22:28:01.157830 17604 deprecation_wrapper.py:119] From C:\\Users\\asus\\Anaconda3\\envs\\deeplearning\\lib\\site-packages\\keras\\backend\\tensorflow_backend.py:517: The name tf.placeholder is deprecated. Please use tf.compat.v1.placeholder instead.\n",
      "\n",
      "W0729 22:28:01.160821 17604 deprecation_wrapper.py:119] From C:\\Users\\asus\\Anaconda3\\envs\\deeplearning\\lib\\site-packages\\keras\\backend\\tensorflow_backend.py:4138: The name tf.random_uniform is deprecated. Please use tf.random.uniform instead.\n",
      "\n",
      "W0729 22:28:01.672105 17604 deprecation_wrapper.py:119] From C:\\Users\\asus\\Anaconda3\\envs\\deeplearning\\lib\\site-packages\\keras\\backend\\tensorflow_backend.py:133: The name tf.placeholder_with_default is deprecated. Please use tf.compat.v1.placeholder_with_default instead.\n",
      "\n",
      "W0729 22:28:01.682086 17604 deprecation.py:506] From C:\\Users\\asus\\Anaconda3\\envs\\deeplearning\\lib\\site-packages\\keras\\backend\\tensorflow_backend.py:3445: calling dropout (from tensorflow.python.ops.nn_ops) with keep_prob is deprecated and will be removed in a future version.\n",
      "Instructions for updating:\n",
      "Please use `rate` instead of `keep_prob`. Rate should be set to `rate = 1 - keep_prob`.\n",
      "W0729 22:28:01.722949 17604 deprecation_wrapper.py:119] From C:\\Users\\asus\\Anaconda3\\envs\\deeplearning\\lib\\site-packages\\keras\\optimizers.py:790: The name tf.train.Optimizer is deprecated. Please use tf.compat.v1.train.Optimizer instead.\n",
      "\n",
      "W0729 22:28:01.755856 17604 deprecation_wrapper.py:119] From C:\\Users\\asus\\Anaconda3\\envs\\deeplearning\\lib\\site-packages\\keras\\backend\\tensorflow_backend.py:3295: The name tf.log is deprecated. Please use tf.math.log instead.\n",
      "\n"
     ]
    },
    {
     "name": "stdout",
     "output_type": "stream",
     "text": [
      "_________________________________________________________________\n",
      "Layer (type)                 Output Shape              Param #   \n",
      "=================================================================\n",
      "embedding_1 (Embedding)      (None, 21, 128)           92032     \n",
      "_________________________________________________________________\n",
      "bidirectional_1 (Bidirection (None, 256)               263168    \n",
      "_________________________________________________________________\n",
      "dense_1 (Dense)              (None, 32)                8224      \n",
      "_________________________________________________________________\n",
      "dropout_1 (Dropout)          (None, 32)                0         \n",
      "_________________________________________________________________\n",
      "dense_2 (Dense)              (None, 6)                 198       \n",
      "=================================================================\n",
      "Total params: 363,622\n",
      "Trainable params: 271,590\n",
      "Non-trainable params: 92,032\n",
      "_________________________________________________________________\n"
     ]
    }
   ],
   "source": [
    "model = create_model(vocab_size, max_length)\n",
    "\n",
    "model.compile(loss = \"categorical_crossentropy\", optimizer = \"adam\", metrics = [\"accuracy\"])\n",
    "model.summary()"
   ]
  },
  {
   "cell_type": "code",
   "execution_count": 30,
   "metadata": {
    "scrolled": false
   },
   "outputs": [
    {
     "name": "stderr",
     "output_type": "stream",
     "text": [
      "W0729 22:28:01.994218 17604 deprecation.py:323] From C:\\Users\\asus\\Anaconda3\\envs\\deeplearning\\lib\\site-packages\\tensorflow\\python\\ops\\math_grad.py:1250: add_dispatch_support.<locals>.wrapper (from tensorflow.python.ops.array_ops) is deprecated and will be removed in a future version.\n",
      "Instructions for updating:\n",
      "Use tf.where in 2.0, which has the same broadcast rule as np.where\n"
     ]
    },
    {
     "name": "stdout",
     "output_type": "stream",
     "text": [
      "Train on 1600 samples, validate on 400 samples\n",
      "Epoch 1/35\n",
      "1600/1600 [==============================] - 4s 2ms/step - loss: 1.5780 - acc: 0.3925 - val_loss: 1.4411 - val_acc: 0.4150\n",
      "\n",
      "Epoch 00001: val_loss improved from inf to 1.44107, saving model to model.h5\n",
      "Epoch 2/35\n",
      "1600/1600 [==============================] - 2s 1ms/step - loss: 1.4273 - acc: 0.4431 - val_loss: 1.2722 - val_acc: 0.4850\n",
      "\n",
      "Epoch 00002: val_loss improved from 1.44107 to 1.27224, saving model to model.h5\n",
      "Epoch 3/35\n",
      "1600/1600 [==============================] - 2s 1ms/step - loss: 1.2405 - acc: 0.5481 - val_loss: 1.0791 - val_acc: 0.7150\n",
      "\n",
      "Epoch 00003: val_loss improved from 1.27224 to 1.07915, saving model to model.h5\n",
      "Epoch 4/35\n",
      "1600/1600 [==============================] - 2s 1ms/step - loss: 1.0270 - acc: 0.6719 - val_loss: 0.8700 - val_acc: 0.7175\n",
      "\n",
      "Epoch 00004: val_loss improved from 1.07915 to 0.87004, saving model to model.h5\n",
      "Epoch 5/35\n",
      "1600/1600 [==============================] - 2s 1ms/step - loss: 0.9285 - acc: 0.7100 - val_loss: 0.7810 - val_acc: 0.7525\n",
      "\n",
      "Epoch 00005: val_loss improved from 0.87004 to 0.78095, saving model to model.h5\n",
      "Epoch 6/35\n",
      "1600/1600 [==============================] - 2s 1ms/step - loss: 0.8336 - acc: 0.7219 - val_loss: 0.7033 - val_acc: 0.7425\n",
      "\n",
      "Epoch 00006: val_loss improved from 0.78095 to 0.70327, saving model to model.h5\n",
      "Epoch 7/35\n",
      "1600/1600 [==============================] - 2s 1ms/step - loss: 0.7525 - acc: 0.7581 - val_loss: 0.6598 - val_acc: 0.7800\n",
      "\n",
      "Epoch 00007: val_loss improved from 0.70327 to 0.65977, saving model to model.h5\n",
      "Epoch 8/35\n",
      "1600/1600 [==============================] - 2s 1ms/step - loss: 0.7133 - acc: 0.7744 - val_loss: 0.6363 - val_acc: 0.7725\n",
      "\n",
      "Epoch 00008: val_loss improved from 0.65977 to 0.63634, saving model to model.h5\n",
      "Epoch 9/35\n",
      "1600/1600 [==============================] - 2s 1ms/step - loss: 0.6604 - acc: 0.7887 - val_loss: 0.5787 - val_acc: 0.8125\n",
      "\n",
      "Epoch 00009: val_loss improved from 0.63634 to 0.57870, saving model to model.h5\n",
      "Epoch 10/35\n",
      "1600/1600 [==============================] - 2s 1ms/step - loss: 0.6232 - acc: 0.7925 - val_loss: 0.5661 - val_acc: 0.8100\n",
      "\n",
      "Epoch 00010: val_loss improved from 0.57870 to 0.56609, saving model to model.h5\n",
      "Epoch 11/35\n",
      "1600/1600 [==============================] - 2s 2ms/step - loss: 0.5959 - acc: 0.8050 - val_loss: 0.5636 - val_acc: 0.8300\n",
      "\n",
      "Epoch 00011: val_loss improved from 0.56609 to 0.56364, saving model to model.h5\n",
      "Epoch 12/35\n",
      "1600/1600 [==============================] - 2s 1ms/step - loss: 0.5630 - acc: 0.8213 - val_loss: 0.5174 - val_acc: 0.8175\n",
      "\n",
      "Epoch 00012: val_loss improved from 0.56364 to 0.51738, saving model to model.h5\n",
      "Epoch 13/35\n",
      "1600/1600 [==============================] - 2s 1ms/step - loss: 0.5629 - acc: 0.8175 - val_loss: 0.5215 - val_acc: 0.8250\n",
      "\n",
      "Epoch 00013: val_loss did not improve from 0.51738\n",
      "Epoch 14/35\n",
      "1600/1600 [==============================] - 2s 1ms/step - loss: 0.5177 - acc: 0.8244 - val_loss: 0.4954 - val_acc: 0.8375\n",
      "\n",
      "Epoch 00014: val_loss improved from 0.51738 to 0.49542, saving model to model.h5\n",
      "Epoch 15/35\n",
      "1600/1600 [==============================] - 2s 1ms/step - loss: 0.5166 - acc: 0.8281 - val_loss: 0.4827 - val_acc: 0.8375\n",
      "\n",
      "Epoch 00015: val_loss improved from 0.49542 to 0.48269, saving model to model.h5\n",
      "Epoch 16/35\n",
      "1600/1600 [==============================] - 2s 1ms/step - loss: 0.4778 - acc: 0.8444 - val_loss: 0.4606 - val_acc: 0.8325\n",
      "\n",
      "Epoch 00016: val_loss improved from 0.48269 to 0.46063, saving model to model.h5\n",
      "Epoch 17/35\n",
      "1600/1600 [==============================] - 2s 1ms/step - loss: 0.4764 - acc: 0.8363 - val_loss: 0.4505 - val_acc: 0.8425\n",
      "\n",
      "Epoch 00017: val_loss improved from 0.46063 to 0.45052, saving model to model.h5\n",
      "Epoch 18/35\n",
      "1600/1600 [==============================] - 2s 1ms/step - loss: 0.4337 - acc: 0.8544 - val_loss: 0.4641 - val_acc: 0.8450\n",
      "\n",
      "Epoch 00018: val_loss did not improve from 0.45052\n",
      "Epoch 19/35\n",
      "1600/1600 [==============================] - 2s 2ms/step - loss: 0.4524 - acc: 0.8506 - val_loss: 0.4872 - val_acc: 0.8575\n",
      "\n",
      "Epoch 00019: val_loss did not improve from 0.45052\n",
      "Epoch 20/35\n",
      "1600/1600 [==============================] - 3s 2ms/step - loss: 0.4359 - acc: 0.8556 - val_loss: 0.5037 - val_acc: 0.8350\n",
      "\n",
      "Epoch 00020: val_loss did not improve from 0.45052\n",
      "Epoch 21/35\n",
      "1600/1600 [==============================] - 3s 2ms/step - loss: 0.4325 - acc: 0.8606 - val_loss: 0.4717 - val_acc: 0.8575\n",
      "\n",
      "Epoch 00021: val_loss did not improve from 0.45052\n",
      "Epoch 22/35\n",
      "1600/1600 [==============================] - 3s 2ms/step - loss: 0.4078 - acc: 0.8769 - val_loss: 0.4388 - val_acc: 0.8675\n",
      "\n",
      "Epoch 00022: val_loss improved from 0.45052 to 0.43880, saving model to model.h5\n",
      "Epoch 23/35\n",
      "1600/1600 [==============================] - 2s 2ms/step - loss: 0.3966 - acc: 0.8681 - val_loss: 0.4493 - val_acc: 0.8575\n",
      "\n",
      "Epoch 00023: val_loss did not improve from 0.43880\n",
      "Epoch 24/35\n",
      "1600/1600 [==============================] - 2s 1ms/step - loss: 0.3683 - acc: 0.8756 - val_loss: 0.4495 - val_acc: 0.8700\n",
      "\n",
      "Epoch 00024: val_loss did not improve from 0.43880\n",
      "Epoch 25/35\n",
      "1600/1600 [==============================] - 2s 2ms/step - loss: 0.3576 - acc: 0.8787 - val_loss: 0.5077 - val_acc: 0.8750\n",
      "\n",
      "Epoch 00025: val_loss did not improve from 0.43880\n",
      "Epoch 26/35\n",
      "1600/1600 [==============================] - 3s 2ms/step - loss: 0.3807 - acc: 0.8713 - val_loss: 0.4375 - val_acc: 0.8750\n",
      "\n",
      "Epoch 00026: val_loss improved from 0.43880 to 0.43754, saving model to model.h5\n",
      "Epoch 27/35\n",
      "1600/1600 [==============================] - 2s 2ms/step - loss: 0.3581 - acc: 0.8931 - val_loss: 0.4174 - val_acc: 0.8700\n",
      "\n",
      "Epoch 00027: val_loss improved from 0.43754 to 0.41742, saving model to model.h5\n",
      "Epoch 28/35\n",
      "1600/1600 [==============================] - 3s 2ms/step - loss: 0.3420 - acc: 0.8937 - val_loss: 0.4287 - val_acc: 0.8700\n",
      "\n",
      "Epoch 00028: val_loss did not improve from 0.41742\n",
      "Epoch 29/35\n",
      "1600/1600 [==============================] - 3s 2ms/step - loss: 0.3349 - acc: 0.8981 - val_loss: 0.4749 - val_acc: 0.8800\n",
      "\n",
      "Epoch 00029: val_loss did not improve from 0.41742\n",
      "Epoch 30/35\n",
      "1600/1600 [==============================] - 2s 2ms/step - loss: 0.3555 - acc: 0.8944 - val_loss: 0.4412 - val_acc: 0.8725\n",
      "\n",
      "Epoch 00030: val_loss did not improve from 0.41742\n",
      "Epoch 31/35\n",
      "1600/1600 [==============================] - 2s 2ms/step - loss: 0.2909 - acc: 0.9113 - val_loss: 0.4852 - val_acc: 0.8750\n",
      "\n",
      "Epoch 00031: val_loss did not improve from 0.41742\n",
      "Epoch 32/35\n",
      "1600/1600 [==============================] - 3s 2ms/step - loss: 0.3077 - acc: 0.9156 - val_loss: 0.4456 - val_acc: 0.8800\n",
      "\n",
      "Epoch 00032: val_loss did not improve from 0.41742\n",
      "Epoch 33/35\n",
      "1600/1600 [==============================] - 3s 2ms/step - loss: 0.3057 - acc: 0.9131 - val_loss: 0.4382 - val_acc: 0.8800\n",
      "\n",
      "Epoch 00033: val_loss did not improve from 0.41742\n",
      "Epoch 34/35\n",
      "1600/1600 [==============================] - 3s 2ms/step - loss: 0.2835 - acc: 0.9181 - val_loss: 0.4385 - val_acc: 0.8700\n",
      "\n",
      "Epoch 00034: val_loss did not improve from 0.41742\n",
      "Epoch 35/35\n",
      "1600/1600 [==============================] - 3s 2ms/step - loss: 0.2810 - acc: 0.9194 - val_loss: 0.4477 - val_acc: 0.8850\n",
      "\n",
      "Epoch 00035: val_loss did not improve from 0.41742\n"
     ]
    }
   ],
   "source": [
    "filename = 'model.h5'\n",
    "checkpoint = ModelCheckpoint(filename, monitor='val_loss', verbose=1, save_best_only=True, mode='min')\n",
    "\n",
    "hist = model.fit(train_X, train_Y, epochs = 35, batch_size = 32, validation_data = (val_X, val_Y), callbacks = [checkpoint])"
   ]
  },
  {
   "cell_type": "code",
   "execution_count": 31,
   "metadata": {},
   "outputs": [
    {
     "data": {
      "text/plain": [
       "[<matplotlib.lines.Line2D at 0x28da050b908>]"
      ]
     },
     "execution_count": 31,
     "metadata": {},
     "output_type": "execute_result"
    },
    {
     "data": {
      "image/png": "[encoded data removed]",
      "text/plain": [
       "<Figure size 432x288 with 1 Axes>"
      ]
     },
     "metadata": {
      "needs_background": "light"
     },
     "output_type": "display_data"
    }
   ],
   "source": [
    "plt.plot(hist.history['loss'])\n",
    "plt.plot(hist.history['val_loss'])"
   ]
  },
  {
   "cell_type": "code",
   "execution_count": 32,
   "metadata": {},
   "outputs": [],
   "source": [
    "#We got a validation accuracy 0f ~87%"
   ]
  },
  {
   "cell_type": "code",
   "execution_count": 94,
   "metadata": {},
   "outputs": [
    {
     "name": "stdout",
     "output_type": "stream",
     "text": [
      "[['i', 'have', 'll'], ['hi', 'where', 'is', 'ur', 'office'], ['what', 'is', 'address'], ['hii'], ['oh', 'ok'], ['stop', 'messaging', 'me'], ['i', 'dont', 'have', 'bike'], ['good', 'morning', 'where', 'is', 'job'], ['good', 'morning', 'tell', 'address'], ['good', 'morning', 'where', 'is', 'job'], ['where', 'is', 'good', 'morning'], ['ok', 'thanks']]\n"
     ]
    },
    {
     "data": {
      "text/plain": [
       "['hasLL',\n",
       " 'location',\n",
       " 'location',\n",
       " 'greeting',\n",
       " 'greeting',\n",
       " 'notInterested',\n",
       " 'dontMeetRequirements',\n",
       " 'location',\n",
       " 'greeting',\n",
       " 'location',\n",
       " 'location',\n",
       " 'saidOK']"
      ]
     },
     "execution_count": 94,
     "metadata": {},
     "output_type": "execute_result"
    }
   ],
   "source": [
    "#Making some predictions\n",
    "\n",
    "X = [\"I have ll\", 'hi! where is ur office', 'what is address', 'Hiii', 'oh ohk', 'stop messaging me', \n",
    "     'i dont have bike', 'good morning where is job', 'good morning tell address', \n",
    "     'good morning where is job', 'where is good morning', 'kkk thanks']\n",
    "\n",
    "pred = cleaning(X)\n",
    "\n",
    "new_cleaned_words = []\n",
    "for words in pred:\n",
    "    new_token = []\n",
    "    for s in words:\n",
    "        s = re.sub(r'^k$', 'ok', s, count=1 )\n",
    "        s = re.sub(r'^k+.*', 'ok', s, count=1)\n",
    "        s = re.sub(r'o+h*k.*', 'ok', s, count=1)\n",
    "        s = re.sub(r'([a-z]*)\\1([i,y])\\2+$', r'\\1\\2', s )\n",
    "        new_token.append(s)\n",
    "        \n",
    "    new_cleaned_words.append(new_token)\n",
    "\n",
    "print(new_cleaned_words)\n",
    "pred = new_cleaned_words\n",
    "\n",
    "\n",
    "\n",
    "vector = word_tokenizer.texts_to_sequences(pred)\n",
    "padded = padding_doc(vector, max_length =19)\n",
    "\n",
    "count = []\n",
    "for i in range(len(pred)):\n",
    "    count.append(len(pred[i]))\n",
    "\n",
    "count = np.array(count).reshape(len(count),1)\n",
    "mask = (count <= 1)\n",
    "one_word = ((mask <= 1)*1).reshape(mask.size, 1)\n",
    "    \n",
    "count = np.array(count).reshape(len(count),1)\n",
    "padded = np.append(padded, count , axis=1)\n",
    "padded = np.append(padded, one_word, axis=1)\n",
    "\n",
    "intent = [inv_map[model.predict_classes(padded)[i] + 1] for i in range(len(X))]\n",
    "intent"
   ]
  },
  {
   "cell_type": "code",
   "execution_count": 34,
   "metadata": {},
   "outputs": [
    {
     "name": "stdout",
     "output_type": "stream",
     "text": [
      "% wrong classified in each category:\n",
      "\n",
      "Category 1 -  14.893617021276595 %\n",
      "Category 2 -  2.247191011235955 %\n",
      "Category 3 -  3.614457831325301 %\n",
      "Category 4 -  28.57142857142857 %\n",
      "Category 5 -  50.0 %\n",
      "Category 6 -  20.0 %\n"
     ]
    }
   ],
   "source": [
    "#Converting val_Y back from one-hot to categorical and checking which examples our model got wrong\n",
    "\n",
    "Y = np.argmax(val_Y, axis=1, out=None)\n",
    "predictions = model.predict_classes(val_X)\n",
    "wrongs = np.array(np.where(predictions != Y))\n",
    "\n",
    "# % wrong in each class\n",
    "print('% wrong classified in each category:\\n')\n",
    "for i in range(6):\n",
    "    print('Category {} - '.format(i+1), (np.sum(Y[wrongs] == i) / np.sum([Y == i]))*100, '%')"
   ]
  },
  {
   "cell_type": "code",
   "execution_count": 35,
   "metadata": {},
   "outputs": [
    {
     "data": {
      "text/html": [
       "<div>\n",
       "<style scoped>\n",
       "    .dataframe tbody tr th:only-of-type {\n",
       "        vertical-align: middle;\n",
       "    }\n",
       "\n",
       "    .dataframe tbody tr th {\n",
       "        vertical-align: top;\n",
       "    }\n",
       "\n",
       "    .dataframe thead th {\n",
       "        text-align: right;\n",
       "    }\n",
       "</style>\n",
       "<table border=\"1\" class=\"dataframe\">\n",
       "  <thead>\n",
       "    <tr style=\"text-align: right;\">\n",
       "      <th></th>\n",
       "      <th>message</th>\n",
       "      <th>wrong_prediction</th>\n",
       "    </tr>\n",
       "  </thead>\n",
       "  <tbody>\n",
       "    <tr>\n",
       "      <th>0</th>\n",
       "      <td>'Not'</td>\n",
       "      <td>greeting</td>\n",
       "    </tr>\n",
       "    <tr>\n",
       "      <th>1</th>\n",
       "      <td>'I have LLR next week lo licence vasthadi'</td>\n",
       "      <td>dontMeetRequirements</td>\n",
       "    </tr>\n",
       "    <tr>\n",
       "      <th>2</th>\n",
       "      <td>'I need job. I have learning license. I am possible this job'</td>\n",
       "      <td>dontMeetRequirements</td>\n",
       "    </tr>\n",
       "    <tr>\n",
       "      <th>3</th>\n",
       "      <td>'Ohhh ok'</td>\n",
       "      <td>greeting</td>\n",
       "    </tr>\n",
       "    <tr>\n",
       "      <th>4</th>\n",
       "      <td>'sir u r place Bangalore'</td>\n",
       "      <td>notInterested</td>\n",
       "    </tr>\n",
       "    <tr>\n",
       "      <th>5</th>\n",
       "      <td>'I am not Interested'</td>\n",
       "      <td>dontMeetRequirements</td>\n",
       "    </tr>\n",
       "    <tr>\n",
       "      <th>6</th>\n",
       "      <td>'Chal nikl'</td>\n",
       "      <td>dontMeetRequirements</td>\n",
       "    </tr>\n",
       "    <tr>\n",
       "      <th>7</th>\n",
       "      <td>'Ok good night computer tomorrow Ok bye bye'</td>\n",
       "      <td>notInterested</td>\n",
       "    </tr>\n",
       "    <tr>\n",
       "      <th>8</th>\n",
       "      <td>'Kidar He'</td>\n",
       "      <td>saidOK</td>\n",
       "    </tr>\n",
       "    <tr>\n",
       "      <th>9</th>\n",
       "      <td>'but...which city sir..actually i m belongs to nagpur'</td>\n",
       "      <td>dontMeetRequirements</td>\n",
       "    </tr>\n",
       "    <tr>\n",
       "      <th>10</th>\n",
       "      <td>'But sir mere pass baik nahi hai. Kya aap meri helf kar sakate hai...'</td>\n",
       "      <td>notInterested</td>\n",
       "    </tr>\n",
       "    <tr>\n",
       "      <th>11</th>\n",
       "      <td>'I have my bicycle'</td>\n",
       "      <td>hasLL</td>\n",
       "    </tr>\n",
       "    <tr>\n",
       "      <th>12</th>\n",
       "      <td>'No tks'</td>\n",
       "      <td>dontMeetRequirements</td>\n",
       "    </tr>\n",
       "    <tr>\n",
       "      <th>13</th>\n",
       "      <td>\"We don't have a interest\"</td>\n",
       "      <td>dontMeetRequirements</td>\n",
       "    </tr>\n",
       "    <tr>\n",
       "      <th>14</th>\n",
       "      <td>\"Sry sir now I'm not interested on job\"</td>\n",
       "      <td>location</td>\n",
       "    </tr>\n",
       "    <tr>\n",
       "      <th>15</th>\n",
       "      <td>'Sorry l am not good ride vehicle.'</td>\n",
       "      <td>notInterested</td>\n",
       "    </tr>\n",
       "    <tr>\n",
       "      <th>16</th>\n",
       "      <td>'K 👍🏻 thank u'</td>\n",
       "      <td>saidOK</td>\n",
       "    </tr>\n",
       "    <tr>\n",
       "      <th>17</th>\n",
       "      <td>'muze bike chalani nHi ati'</td>\n",
       "      <td>location</td>\n",
       "    </tr>\n",
       "    <tr>\n",
       "      <th>18</th>\n",
       "      <td>'1yes'</td>\n",
       "      <td>greeting</td>\n",
       "    </tr>\n",
       "    <tr>\n",
       "      <th>19</th>\n",
       "      <td>\"I don't have Lisence.. Can u manage to join as delivary boy\"</td>\n",
       "      <td>notInterested</td>\n",
       "    </tr>\n",
       "    <tr>\n",
       "      <th>20</th>\n",
       "      <td>'Rajajinagar'</td>\n",
       "      <td>dontMeetRequirements</td>\n",
       "    </tr>\n",
       "    <tr>\n",
       "      <th>21</th>\n",
       "      <td>'Konsi jagah'</td>\n",
       "      <td>saidOK</td>\n",
       "    </tr>\n",
       "    <tr>\n",
       "      <th>22</th>\n",
       "      <td>'Hindi nai aate'</td>\n",
       "      <td>location</td>\n",
       "    </tr>\n",
       "    <tr>\n",
       "      <th>23</th>\n",
       "      <td>'Hey will u just stop this'</td>\n",
       "      <td>dontMeetRequirements</td>\n",
       "    </tr>\n",
       "    <tr>\n",
       "      <th>24</th>\n",
       "      <td>'Accha'</td>\n",
       "      <td>greeting</td>\n",
       "    </tr>\n",
       "    <tr>\n",
       "      <th>25</th>\n",
       "      <td>'Lr undi'</td>\n",
       "      <td>notInterested</td>\n",
       "    </tr>\n",
       "    <tr>\n",
       "      <th>26</th>\n",
       "      <td>'Llr apply'</td>\n",
       "      <td>hasLL</td>\n",
       "    </tr>\n",
       "    <tr>\n",
       "      <th>27</th>\n",
       "      <td>'🙄 Its in banagaluru</td>\n",
       "      <td>greeting</td>\n",
       "    </tr>\n",
       "    <tr>\n",
       "      <th>28</th>\n",
       "      <td>'ll chapu'</td>\n",
       "      <td>hasLL</td>\n",
       "    </tr>\n",
       "    <tr>\n",
       "      <th>29</th>\n",
       "      <td>'But sir me paise nhi pay karunga'</td>\n",
       "      <td>notInterested</td>\n",
       "    </tr>\n",
       "    <tr>\n",
       "      <th>30</th>\n",
       "      <td>'cheatinh'</td>\n",
       "      <td>greeting</td>\n",
       "    </tr>\n",
       "    <tr>\n",
       "      <th>31</th>\n",
       "      <td>'Sir dl no sir'</td>\n",
       "      <td>notInterested</td>\n",
       "    </tr>\n",
       "    <tr>\n",
       "      <th>32</th>\n",
       "      <td>'inserted no'</td>\n",
       "      <td>greeting</td>\n",
       "    </tr>\n",
       "    <tr>\n",
       "      <th>33</th>\n",
       "      <td>'Nonsense'</td>\n",
       "      <td>greeting</td>\n",
       "    </tr>\n",
       "    <tr>\n",
       "      <th>34</th>\n",
       "      <td>'BYKE is next month cmng'</td>\n",
       "      <td>notInterested</td>\n",
       "    </tr>\n",
       "    <tr>\n",
       "      <th>35</th>\n",
       "      <td>'16 yrs old'</td>\n",
       "      <td>greeting</td>\n",
       "    </tr>\n",
       "    <tr>\n",
       "      <th>36</th>\n",
       "      <td>'Only driving license'</td>\n",
       "      <td>hasLL</td>\n",
       "    </tr>\n",
       "    <tr>\n",
       "      <th>37</th>\n",
       "      <td>'sir. ok. but nodriveng. lince. no. pancaed'</td>\n",
       "      <td>location</td>\n",
       "    </tr>\n",
       "    <tr>\n",
       "      <th>38</th>\n",
       "      <td>'I had already joined and left the job'</td>\n",
       "      <td>location</td>\n",
       "    </tr>\n",
       "    <tr>\n",
       "      <th>39</th>\n",
       "      <td>'Nonsense'</td>\n",
       "      <td>greeting</td>\n",
       "    </tr>\n",
       "    <tr>\n",
       "      <th>40</th>\n",
       "      <td>\"Sir i don't know driving\"</td>\n",
       "      <td>notInterested</td>\n",
       "    </tr>\n",
       "    <tr>\n",
       "      <th>41</th>\n",
       "      <td>'Stop'</td>\n",
       "      <td>greeting</td>\n",
       "    </tr>\n",
       "    <tr>\n",
       "      <th>42</th>\n",
       "      <td>'Wher'</td>\n",
       "      <td>greeting</td>\n",
       "    </tr>\n",
       "    <tr>\n",
       "      <th>43</th>\n",
       "      <td>'OK'</td>\n",
       "      <td>saidOK</td>\n",
       "    </tr>\n",
       "    <tr>\n",
       "      <th>44</th>\n",
       "      <td>'But DL HAS GIVEN FOR RENEWAL'</td>\n",
       "      <td>notInterested</td>\n",
       "    </tr>\n",
       "    <tr>\n",
       "      <th>45</th>\n",
       "      <td>'I will refer one num so send this msg to him'</td>\n",
       "      <td>notInterested</td>\n",
       "    </tr>\n",
       "  </tbody>\n",
       "</table>\n",
       "</div>"
      ],
      "text/plain": [
       "                                                                    message  \\\n",
       "0    'Not'                                                                    \n",
       "1    'I have LLR next week lo licence vasthadi'                               \n",
       "2    'I need job. I have learning license. I am possible this job'            \n",
       "3    'Ohhh ok'                                                                \n",
       "4    'sir u r place Bangalore'                                                \n",
       "5    'I am not Interested'                                                    \n",
       "6    'Chal nikl'                                                              \n",
       "7    'Ok good night computer tomorrow Ok bye bye'                             \n",
       "8    'Kidar He'                                                               \n",
       "9    'but...which city sir..actually i m belongs to nagpur'                   \n",
       "10   'But sir mere pass baik nahi hai. Kya aap meri helf kar sakate hai...'   \n",
       "11   'I have my bicycle'                                                      \n",
       "12   'No tks'                                                                 \n",
       "13   \"We don't have a interest\"                                               \n",
       "14   \"Sry sir now I'm not interested on job\"                                  \n",
       "15   'Sorry l am not good ride vehicle.'                                      \n",
       "16   'K 👍🏻 thank u'                                                           \n",
       "17   'muze bike chalani nHi ati'                                              \n",
       "18   '1yes'                                                                   \n",
       "19   \"I don't have Lisence.. Can u manage to join as delivary boy\"            \n",
       "20   'Rajajinagar'                                                            \n",
       "21   'Konsi jagah'                                                            \n",
       "22   'Hindi nai aate'                                                         \n",
       "23   'Hey will u just stop this'                                              \n",
       "24   'Accha'                                                                  \n",
       "25   'Lr undi'                                                                \n",
       "26   'Llr apply'                                                              \n",
       "27   '🙄 Its in banagaluru                                                     \n",
       "28   'll chapu'                                                               \n",
       "29   'But sir me paise nhi pay karunga'                                       \n",
       "30   'cheatinh'                                                               \n",
       "31   'Sir dl no sir'                                                          \n",
       "32   'inserted no'                                                            \n",
       "33   'Nonsense'                                                               \n",
       "34   'BYKE is next month cmng'                                                \n",
       "35   '16 yrs old'                                                             \n",
       "36   'Only driving license'                                                   \n",
       "37   'sir. ok. but nodriveng. lince. no. pancaed'                             \n",
       "38   'I had already joined and left the job'                                  \n",
       "39   'Nonsense'                                                               \n",
       "40   \"Sir i don't know driving\"                                               \n",
       "41   'Stop'                                                                   \n",
       "42   'Wher'                                                                   \n",
       "43   'OK'                                                                     \n",
       "44   'But DL HAS GIVEN FOR RENEWAL'                                           \n",
       "45   'I will refer one num so send this msg to him'                           \n",
       "\n",
       "        wrong_prediction  \n",
       "0   greeting              \n",
       "1   dontMeetRequirements  \n",
       "2   dontMeetRequirements  \n",
       "3   greeting              \n",
       "4   notInterested         \n",
       "5   dontMeetRequirements  \n",
       "6   dontMeetRequirements  \n",
       "7   notInterested         \n",
       "8   saidOK                \n",
       "9   dontMeetRequirements  \n",
       "10  notInterested         \n",
       "11  hasLL                 \n",
       "12  dontMeetRequirements  \n",
       "13  dontMeetRequirements  \n",
       "14  location              \n",
       "15  notInterested         \n",
       "16  saidOK                \n",
       "17  location              \n",
       "18  greeting              \n",
       "19  notInterested         \n",
       "20  dontMeetRequirements  \n",
       "21  saidOK                \n",
       "22  location              \n",
       "23  dontMeetRequirements  \n",
       "24  greeting              \n",
       "25  notInterested         \n",
       "26  hasLL                 \n",
       "27  greeting              \n",
       "28  hasLL                 \n",
       "29  notInterested         \n",
       "30  greeting              \n",
       "31  notInterested         \n",
       "32  greeting              \n",
       "33  greeting              \n",
       "34  notInterested         \n",
       "35  greeting              \n",
       "36  hasLL                 \n",
       "37  location              \n",
       "38  location              \n",
       "39  greeting              \n",
       "40  notInterested         \n",
       "41  greeting              \n",
       "42  greeting              \n",
       "43  saidOK                \n",
       "44  notInterested         \n",
       "45  notInterested         "
      ]
     },
     "execution_count": 35,
     "metadata": {},
     "output_type": "execute_result"
    }
   ],
   "source": [
    "for train_index, test_index in sss.split(padded_doc, labels):\n",
    "    mask = test_index\n",
    "    \n",
    "pred_wrong_msg = message[mask[wrongs]].reshape(wrongs.size,1)\n",
    "\n",
    "pred_wrong_label = predictions[wrongs].reshape(wrongs.size,) + 1\n",
    "wrong_pred = list(pred_wrong_label)\n",
    "\n",
    "pred_wrong_text_labels = list([inv_map[key] for key in wrong_pred])\n",
    "\n",
    "mistakes = pd.DataFrame(pred_wrong_msg, columns=['message'])\n",
    "mistakes['wrong_prediction'] = pred_wrong_text_labels\n",
    "mistakes\n"
   ]
  },
  {
   "cell_type": "code",
   "execution_count": 36,
   "metadata": {},
   "outputs": [],
   "source": [
    "#It seems that some of the predictions are actually correct and it is I who has made the mistake in labelling...\n",
    "\n",
    "#Also some errors could be partially because I have labelled things that did not have an immediately obvious label as\n",
    "#'greeting' so the bot will just start over if it does not know what to do. Which is why we see that the class 'greeting'\n",
    "#has many False Positives (since this is also the class the model got to see an overwhelmingly imbalanced examples of and \n",
    "#it had by far the most number of training examples)\n",
    "\n",
    "#Some other errors seem to be the model confusing between 'notInterested' and 'dontMeetRequirements' as they are both sort\n",
    "#of \"negative\" classes.\n",
    "\n",
    "#hasLL class had very few examples to train on, although it's accuracy can be improved using regular expressions\n",
    "#as it has concrete markers in for of the usage of words such as ['license, llr, driving, DL, LL etc.']"
   ]
  },
  {
   "cell_type": "code",
   "execution_count": null,
   "metadata": {},
   "outputs": [],
   "source": [
    "#We can do further error analysis by calculating the confusion matrix.\n"
   ]
  }
 ],
 "metadata": {
  "kernelspec": {
   "display_name": "Python 3",
   "language": "python",
   "name": "python3"
  },
  "language_info": {
   "codemirror_mode": {
    "name": "ipython",
    "version": 3
   },
   "file_extension": ".py",
   "mimetype": "text/x-python",
   "name": "python",
   "nbconvert_exporter": "python",
   "pygments_lexer": "ipython3",
   "version": "3.7.3"
  }
 },
 "nbformat": 4,
 "nbformat_minor": 2
}
