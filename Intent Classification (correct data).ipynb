{
 "cells": [
  {
   "cell_type": "code",
   "execution_count": 1,
   "metadata": {},
   "outputs": [
    {
     "name": "stderr",
     "output_type": "stream",
     "text": [
      "Using TensorFlow backend.\n"
     ]
    }
   ],
   "source": [
    "import numpy as np\n",
    "import pandas as pd\n",
    "import matplotlib.pyplot as plt\n",
    "from nltk.corpus import stopwords\n",
    "from nltk.tokenize import word_tokenize\n",
    "import nltk\n",
    "import re\n",
    "from sklearn.preprocessing import OneHotEncoder\n",
    "from keras.preprocessing.text import Tokenizer\n",
    "from keras.preprocessing.sequence import pad_sequences\n",
    "from keras.utils import to_categorical\n",
    "from keras.models import Sequential, load_model\n",
    "from keras.layers import Dense, LSTM, Bidirectional, Embedding, Dropout\n",
    "from keras.callbacks import ModelCheckpoint\n",
    "\n",
    "%matplotlib inline"
   ]
  },
  {
   "cell_type": "code",
   "execution_count": 2,
   "metadata": {},
   "outputs": [
    {
     "data": {
      "text/html": [
       "<div>\n",
       "<style scoped>\n",
       "    .dataframe tbody tr th:only-of-type {\n",
       "        vertical-align: middle;\n",
       "    }\n",
       "\n",
       "    .dataframe tbody tr th {\n",
       "        vertical-align: top;\n",
       "    }\n",
       "\n",
       "    .dataframe thead th {\n",
       "        text-align: right;\n",
       "    }\n",
       "</style>\n",
       "<table border=\"1\" class=\"dataframe\">\n",
       "  <thead>\n",
       "    <tr style=\"text-align: right;\">\n",
       "      <th></th>\n",
       "      <th>data</th>\n",
       "      <th>label</th>\n",
       "      <th>new_label</th>\n",
       "    </tr>\n",
       "  </thead>\n",
       "  <tbody>\n",
       "    <tr>\n",
       "      <th>0</th>\n",
       "      <td>{'id': 'KG0OUA', 'data': 'Good morning', 'message_order': 2, 'comments': ['']}</td>\n",
       "      <td>location</td>\n",
       "      <td>3</td>\n",
       "    </tr>\n",
       "    <tr>\n",
       "      <th>1</th>\n",
       "      <td>{'id': 'L9DC9H', 'data': 'Location', 'message_order': 5, 'comments': ['']}</td>\n",
       "      <td>whoAreYou</td>\n",
       "      <td>1</td>\n",
       "    </tr>\n",
       "    <tr>\n",
       "      <th>2</th>\n",
       "      <td>{'id': 'ZQR6R5', 'data': 'hi', 'message_order': 5, 'comments': ['']}</td>\n",
       "      <td>whoAreYou</td>\n",
       "      <td>3</td>\n",
       "    </tr>\n",
       "    <tr>\n",
       "      <th>3</th>\n",
       "      <td>{'id': 'RH0M4E', 'data': 'Hi', 'message_order': 4, 'comments': ['']}</td>\n",
       "      <td>greeting</td>\n",
       "      <td>3</td>\n",
       "    </tr>\n",
       "    <tr>\n",
       "      <th>4</th>\n",
       "      <td>{'id': 'WLVX8I', 'data': 'Hello', 'message_order': 1, 'comments': ['']}</td>\n",
       "      <td>greeting</td>\n",
       "      <td>3</td>\n",
       "    </tr>\n",
       "  </tbody>\n",
       "</table>\n",
       "</div>"
      ],
      "text/plain": [
       "                                                                             data  \\\n",
       "0  {'id': 'KG0OUA', 'data': 'Good morning', 'message_order': 2, 'comments': ['']}   \n",
       "1  {'id': 'L9DC9H', 'data': 'Location', 'message_order': 5, 'comments': ['']}       \n",
       "2  {'id': 'ZQR6R5', 'data': 'hi', 'message_order': 5, 'comments': ['']}             \n",
       "3  {'id': 'RH0M4E', 'data': 'Hi', 'message_order': 4, 'comments': ['']}             \n",
       "4  {'id': 'WLVX8I', 'data': 'Hello', 'message_order': 1, 'comments': ['']}          \n",
       "\n",
       "       label  new_label  \n",
       "0  location   3          \n",
       "1  whoAreYou  1          \n",
       "2  whoAreYou  3          \n",
       "3  greeting   3          \n",
       "4  greeting   3          "
      ]
     },
     "execution_count": 2,
     "metadata": {},
     "output_type": "execute_result"
    }
   ],
   "source": [
    "df = pd.read_csv('TakeHome_task_data.csv')\n",
    "pd.set_option('display.max_colwidth', -1)\n",
    "df.head(5)"
   ]
  },
  {
   "cell_type": "code",
   "execution_count": 3,
   "metadata": {},
   "outputs": [
    {
     "data": {
      "text/html": [
       "<div>\n",
       "<style scoped>\n",
       "    .dataframe tbody tr th:only-of-type {\n",
       "        vertical-align: middle;\n",
       "    }\n",
       "\n",
       "    .dataframe tbody tr th {\n",
       "        vertical-align: top;\n",
       "    }\n",
       "\n",
       "    .dataframe thead th {\n",
       "        text-align: right;\n",
       "    }\n",
       "</style>\n",
       "<table border=\"1\" class=\"dataframe\">\n",
       "  <thead>\n",
       "    <tr style=\"text-align: right;\">\n",
       "      <th></th>\n",
       "      <th>text</th>\n",
       "      <th>message_order</th>\n",
       "      <th>label</th>\n",
       "    </tr>\n",
       "  </thead>\n",
       "  <tbody>\n",
       "    <tr>\n",
       "      <th>0</th>\n",
       "      <td>'Good morning'</td>\n",
       "      <td>2</td>\n",
       "      <td>3</td>\n",
       "    </tr>\n",
       "    <tr>\n",
       "      <th>1</th>\n",
       "      <td>'Location'</td>\n",
       "      <td>5</td>\n",
       "      <td>1</td>\n",
       "    </tr>\n",
       "    <tr>\n",
       "      <th>2</th>\n",
       "      <td>'hi'</td>\n",
       "      <td>5</td>\n",
       "      <td>3</td>\n",
       "    </tr>\n",
       "    <tr>\n",
       "      <th>3</th>\n",
       "      <td>'Hi'</td>\n",
       "      <td>4</td>\n",
       "      <td>3</td>\n",
       "    </tr>\n",
       "    <tr>\n",
       "      <th>4</th>\n",
       "      <td>'Hello'</td>\n",
       "      <td>1</td>\n",
       "      <td>3</td>\n",
       "    </tr>\n",
       "  </tbody>\n",
       "</table>\n",
       "</div>"
      ],
      "text/plain": [
       "              text  message_order  label\n",
       "0   'Good morning'  2              3    \n",
       "1   'Location'      5              1    \n",
       "2   'hi'            5              3    \n",
       "3   'Hi'            4              3    \n",
       "4   'Hello'         1              3    "
      ]
     },
     "execution_count": 3,
     "metadata": {},
     "output_type": "execute_result"
    }
   ],
   "source": [
    "#obtaining the important parts of the data from the csv file i.e 'message', 'message_order', 'intent label'\n",
    "\n",
    "ndf = df['data'].str.split(',')\n",
    "\n",
    "ndata = list()\n",
    "for i in range(ndf.size):\n",
    "    ndata.append(ndf[i][1])\n",
    "    \n",
    "final_data = list()\n",
    "for i in range(len(ndata)):\n",
    "    final_data.append(ndata[i].split(':')[1])\n",
    "    \n",
    "m_order = list()\n",
    "for i in range(ndf.size):\n",
    "    if i in (75, 247, 458, 464, 631, 1269, 1459, 1601, 1651, 1803, 1918): #a bit crude but works for now\n",
    "        m_order.append(ndf[i][3])\n",
    "    else:\n",
    "        m_order.append(ndf[i][2])\n",
    "    \n",
    "final_m_order = list()\n",
    "for i in range(len(m_order)):\n",
    "    final_m_order.append(m_order[i].split(':')[1])\n",
    "\n",
    "    \n",
    "data = pd.DataFrame(final_data, columns = ['text']).assign(message_order = final_m_order)\n",
    "data = data.assign(label = df.label)\n",
    "data.text = data.text.apply(str)\n",
    "data.message_order = pd.to_numeric(data.message_order)\n",
    "data = data.assign(label = df.new_label)\n",
    "\n",
    "data.head(5)"
   ]
  },
  {
   "cell_type": "code",
   "execution_count": 4,
   "metadata": {},
   "outputs": [
    {
     "data": {
      "text/plain": [
       "[1, 2, 3, 4, 5, 6]"
      ]
     },
     "execution_count": 4,
     "metadata": {},
     "output_type": "execute_result"
    }
   ],
   "source": [
    "intent = data.label\n",
    "unique_intents = list(set(data.label))\n",
    "unique_intents"
   ]
  },
  {
   "cell_type": "code",
   "execution_count": 5,
   "metadata": {},
   "outputs": [],
   "source": [
    "my_map = {'location': 1,'saidOK': 2, 'greeting' : 3, 'dontMeetRequirements' : 4, 'notInterested' : 5, 'hasLL' : 6}\n",
    "inv_map = {v: k for k, v in my_map.items()}"
   ]
  },
  {
   "cell_type": "code",
   "execution_count": 6,
   "metadata": {},
   "outputs": [],
   "source": [
    "#Converting numeric labels to their corresponding text based label\n",
    "\n",
    "text_labels = list([inv_map[key] for key in data.label])\n",
    "data['text_label'] = text_labels"
   ]
  },
  {
   "cell_type": "code",
   "execution_count": 7,
   "metadata": {},
   "outputs": [
    {
     "data": {
      "text/html": [
       "<div>\n",
       "<style scoped>\n",
       "    .dataframe tbody tr th:only-of-type {\n",
       "        vertical-align: middle;\n",
       "    }\n",
       "\n",
       "    .dataframe tbody tr th {\n",
       "        vertical-align: top;\n",
       "    }\n",
       "\n",
       "    .dataframe thead th {\n",
       "        text-align: right;\n",
       "    }\n",
       "</style>\n",
       "<table border=\"1\" class=\"dataframe\">\n",
       "  <thead>\n",
       "    <tr style=\"text-align: right;\">\n",
       "      <th></th>\n",
       "      <th>text</th>\n",
       "      <th>message_order</th>\n",
       "      <th>label</th>\n",
       "      <th>text_label</th>\n",
       "    </tr>\n",
       "  </thead>\n",
       "  <tbody>\n",
       "    <tr>\n",
       "      <th>0</th>\n",
       "      <td>'Good morning'</td>\n",
       "      <td>2</td>\n",
       "      <td>3</td>\n",
       "      <td>greeting</td>\n",
       "    </tr>\n",
       "    <tr>\n",
       "      <th>1</th>\n",
       "      <td>'Location'</td>\n",
       "      <td>5</td>\n",
       "      <td>1</td>\n",
       "      <td>location</td>\n",
       "    </tr>\n",
       "    <tr>\n",
       "      <th>2</th>\n",
       "      <td>'hi'</td>\n",
       "      <td>5</td>\n",
       "      <td>3</td>\n",
       "      <td>greeting</td>\n",
       "    </tr>\n",
       "    <tr>\n",
       "      <th>3</th>\n",
       "      <td>'Hi'</td>\n",
       "      <td>4</td>\n",
       "      <td>3</td>\n",
       "      <td>greeting</td>\n",
       "    </tr>\n",
       "    <tr>\n",
       "      <th>4</th>\n",
       "      <td>'Hello'</td>\n",
       "      <td>1</td>\n",
       "      <td>3</td>\n",
       "      <td>greeting</td>\n",
       "    </tr>\n",
       "  </tbody>\n",
       "</table>\n",
       "</div>"
      ],
      "text/plain": [
       "              text  message_order  label text_label\n",
       "0   'Good morning'  2              3      greeting \n",
       "1   'Location'      5              1      location \n",
       "2   'hi'            5              3      greeting \n",
       "3   'Hi'            4              3      greeting \n",
       "4   'Hello'         1              3      greeting "
      ]
     },
     "execution_count": 7,
     "metadata": {},
     "output_type": "execute_result"
    }
   ],
   "source": [
    "data.head(5)"
   ]
  },
  {
   "cell_type": "code",
   "execution_count": 8,
   "metadata": {},
   "outputs": [
    {
     "data": {
      "image/png": "[encoded data removed]",
      "text/plain": [
       "<Figure size 432x288 with 1 Axes>"
      ]
     },
     "metadata": {
      "needs_background": "light"
     },
     "output_type": "display_data"
    }
   ],
   "source": [
    "#Visualizing distribution of intent classification over message_orders (the dataset has fewer examples with class = 4,5)\n",
    "\n",
    "x = np.array(data.message_order)\n",
    "y = np.array(data.text_label)\n",
    "\n",
    "plt.xlabel('Message Order')\n",
    "plt.ylabel('Intent Class')\n",
    "\n",
    "plt.scatter(x,y, alpha = 0.007)\n",
    "plt.show()"
   ]
  },
  {
   "cell_type": "code",
   "execution_count": 9,
   "metadata": {},
   "outputs": [
    {
     "name": "stdout",
     "output_type": "stream",
     "text": [
      "Examples of class 1 = 233\n",
      "Examples of class 2 = 445\n",
      "Examples of class 3 = 828\n",
      "Examples of class 4 = 284\n",
      "Examples of class 5 = 112\n",
      "Examples of class 6 = 98\n"
     ]
    }
   ],
   "source": [
    "message = np.array(data.text)\n",
    "message_order = np.array(data.message_order)\n",
    "labels = np.array(data.label)\n",
    "\n",
    "for i in range(6):\n",
    "    print('Examples of class ' + str(i+1) + ' =', np.sum(labels == i+1))"
   ]
  },
  {
   "cell_type": "code",
   "execution_count": 10,
   "metadata": {},
   "outputs": [
    {
     "name": "stderr",
     "output_type": "stream",
     "text": [
      "[nltk_data] Downloading package stopwords to\n",
      "[nltk_data]     C:\\Users\\asus\\AppData\\Roaming\\nltk_data...\n",
      "[nltk_data]   Package stopwords is already up-to-date!\n",
      "[nltk_data] Downloading package punkt to\n",
      "[nltk_data]     C:\\Users\\asus\\AppData\\Roaming\\nltk_data...\n",
      "[nltk_data]   Package punkt is already up-to-date!\n"
     ]
    },
    {
     "data": {
      "text/plain": [
       "True"
      ]
     },
     "execution_count": 10,
     "metadata": {},
     "output_type": "execute_result"
    }
   ],
   "source": [
    "nltk.download(\"stopwords\")\n",
    "nltk.download(\"punkt\")"
   ]
  },
  {
   "cell_type": "code",
   "execution_count": 11,
   "metadata": {},
   "outputs": [],
   "source": [
    "#shifting all data to lowercase and breaking sentences into word tokens\n",
    "\n",
    "def cleaning(message):\n",
    "    words = []\n",
    "    for s in message:\n",
    "        clean = re.sub(r'[^ a-z A-Z 0-9]', \" \", s)\n",
    "        w = word_tokenize(clean)\n",
    "        words.append([i.lower() for i in w])\n",
    "    \n",
    "    return words"
   ]
  },
  {
   "cell_type": "code",
   "execution_count": 12,
   "metadata": {},
   "outputs": [
    {
     "name": "stdout",
     "output_type": "stream",
     "text": [
      "[['good', 'morning'], ['location'], ['hi'], ['hi'], ['hello'], ['sir'], ['k'], ['on', 'thanks'], ['hii'], ['sir', 'i', 'dnt', 'have', 'two', 'wheeler']]\n"
     ]
    }
   ],
   "source": [
    "cleaned_words = cleaning(message)\n",
    "print(cleaned_words[0:10])"
   ]
  },
  {
   "cell_type": "code",
   "execution_count": 13,
   "metadata": {},
   "outputs": [
    {
     "data": {
      "text/plain": [
       "array([2, 1, 1, 1, 1, 1, 1, 2, 1, 6])"
      ]
     },
     "execution_count": 13,
     "metadata": {},
     "output_type": "execute_result"
    }
   ],
   "source": [
    "#Creating feature word_count and checking its relation to the data using histogram\n",
    "\n",
    "word_count = []\n",
    "for i in range(len(cleaned_words)):\n",
    "    word_count.append(len(cleaned_words[i]))\n",
    "\n",
    "word_count = np.array(word_count)\n",
    "word_count[0:10]"
   ]
  },
  {
   "cell_type": "code",
   "execution_count": 14,
   "metadata": {},
   "outputs": [
    {
     "data": {
      "text/plain": [
       "(array([ 38.,   0., 410.,   0., 630.,   0.,  72.,   0.,  11.,  23.]),\n",
       " array([1. , 1.5, 2. , 2.5, 3. , 3.5, 4. , 4.5, 5. , 5.5, 6. ]),\n",
       " <a list of 10 Patch objects>)"
      ]
     },
     "execution_count": 14,
     "metadata": {},
     "output_type": "execute_result"
    },
    {
     "data": {
      "image/png": "[encoded data removed]",
      "text/plain": [
       "<Figure size 432x288 with 1 Axes>"
      ]
     },
     "metadata": {
      "needs_background": "light"
     },
     "output_type": "display_data"
    }
   ],
   "source": [
    "mask = (word_count <= 1)\n",
    "x = labels[mask] \n",
    "plt.hist(x)"
   ]
  },
  {
   "cell_type": "code",
   "execution_count": 15,
   "metadata": {},
   "outputs": [
    {
     "data": {
      "text/plain": [
       "array([\" 'बाइक नहीं है'\", \" 'मेरे पास बाइक नही है'\", \" 'లేదు'\",\n",
       "       \" 'जय महाराष्ट्र'\", \" 'లేదు'\", \" 'శుభోదయం'\",\n",
       "       \" '👾 ಬೆಳಗಿನ ಶುಭೋದಯ ಗಳು'\", \" 'कुटे है'\", \" '\", \" 'नमस्कार'\",\n",
       "       \" '😉✌'\"], dtype=object)"
      ]
     },
     "execution_count": 15,
     "metadata": {},
     "output_type": "execute_result"
    }
   ],
   "source": [
    "#Non- English messages have 0 word count because of how the cleaning_sentences function was defined\n",
    "\n",
    "message[np.where(word_count == 0)]"
   ]
  },
  {
   "cell_type": "code",
   "execution_count": 16,
   "metadata": {},
   "outputs": [],
   "source": [
    "#standard keras tokenizer procedure\n",
    "\n",
    "def create_tokenizer(words, filters = '!\"#$%&()*+,-./:;<=>?@[\\]^_`{|}~'):\n",
    "  token = Tokenizer(filters = filters)\n",
    "  token.fit_on_texts(words)\n",
    "  return token"
   ]
  },
  {
   "cell_type": "code",
   "execution_count": 17,
   "metadata": {},
   "outputs": [
    {
     "name": "stdout",
     "output_type": "stream",
     "text": [
      "Vocab Size = 812 and Maximum length = 19\n"
     ]
    }
   ],
   "source": [
    "word_tokenizer = create_tokenizer(cleaned_words)\n",
    "vocab_size = len(word_tokenizer.word_index) + 1\n",
    "max_length = len(max(cleaned_words, key = len))\n",
    "\n",
    "print(\"Vocab Size = %d and Maximum length = %d\" % (vocab_size, max_length))"
   ]
  },
  {
   "cell_type": "code",
   "execution_count": 18,
   "metadata": {},
   "outputs": [
    {
     "data": {
      "text/plain": [
       "[[16, 22], [11], [1], [1]]"
      ]
     },
     "execution_count": 18,
     "metadata": {},
     "output_type": "execute_result"
    }
   ],
   "source": [
    "#obtaining the word vectors\n",
    "\n",
    "vectors = word_tokenizer.texts_to_sequences(cleaned_words)\n",
    "vectors[0:4]\n",
    "\n",
    "#using matrix decomposition of co-occurence matrix won't work well here clearly due to the nature of the 'corpus'."
   ]
  },
  {
   "cell_type": "code",
   "execution_count": 19,
   "metadata": {},
   "outputs": [],
   "source": [
    "#adding zero padding to make size of all vectors equal\n",
    "\n",
    "def padding_doc(vectors, max_length):\n",
    "  return(pad_sequences(vectors, maxlen = max_length, padding = \"post\"))\n",
    "\n",
    "padded_doc = padding_doc(vectors, max_length)"
   ]
  },
  {
   "cell_type": "code",
   "execution_count": 20,
   "metadata": {},
   "outputs": [],
   "source": [
    "#Adding message order as an input feature\n",
    "\n",
    "#message_order = message_order.reshape(2000,1)\n",
    "\n",
    "#padded_doc = np.append(padded_doc, message_order, axis=1)\n",
    "#padded_doc.shape"
   ]
  },
  {
   "cell_type": "code",
   "execution_count": 21,
   "metadata": {},
   "outputs": [
    {
     "data": {
      "text/plain": [
       "((2000, 20), 20)"
      ]
     },
     "execution_count": 21,
     "metadata": {},
     "output_type": "execute_result"
    }
   ],
   "source": [
    "#adding word count as a feature\n",
    "\n",
    "word_count = np.array(word_count).reshape(2000,1)\n",
    "padded_doc = np.append(padded_doc, word_count, axis=1)\n",
    "max_length = padded_doc.shape[1]\n",
    "\n",
    "padded_doc.shape, max_length"
   ]
  },
  {
   "cell_type": "code",
   "execution_count": 22,
   "metadata": {},
   "outputs": [
    {
     "name": "stderr",
     "output_type": "stream",
     "text": [
      "C:\\Users\\asus\\Anaconda3\\envs\\deeplearning\\lib\\site-packages\\sklearn\\preprocessing\\_encoders.py:415: FutureWarning: The handling of integer data will change in version 0.22. Currently, the categories are determined based on the range [0, max(values)], while in the future they will be determined based on the unique values.\n",
      "If you want the future behaviour and silence this warning, you can specify \"categories='auto'\".\n",
      "In case you used a LabelEncoder before this OneHotEncoder to convert the categories to integers, then you can now use the OneHotEncoder directly.\n",
      "  warnings.warn(msg, FutureWarning)\n"
     ]
    },
    {
     "data": {
      "text/plain": [
       "(2000, 6)"
      ]
     },
     "execution_count": 22,
     "metadata": {},
     "output_type": "execute_result"
    }
   ],
   "source": [
    "#using one_hot representation for intent labels\n",
    "\n",
    "labels = labels.reshape(2000,1)\n",
    "labels.shape\n",
    "\n",
    "from sklearn.preprocessing import OneHotEncoder\n",
    "encoder = OneHotEncoder(sparse=False)\n",
    "Y_onehot = encoder.fit_transform(labels)\n",
    "Y_onehot.shape"
   ]
  },
  {
   "cell_type": "code",
   "execution_count": 23,
   "metadata": {},
   "outputs": [],
   "source": [
    "from sklearn.model_selection import train_test_split"
   ]
  },
  {
   "cell_type": "code",
   "execution_count": 24,
   "metadata": {},
   "outputs": [],
   "source": [
    "train_X, val_X, train_Y, val_Y = train_test_split(padded_doc, Y_onehot, shuffle = True, test_size = 0.2)"
   ]
  },
  {
   "cell_type": "code",
   "execution_count": 25,
   "metadata": {},
   "outputs": [
    {
     "name": "stdout",
     "output_type": "stream",
     "text": [
      "Shape of train_X = (1600, 20) and train_Y = (1600, 6)\n",
      "Shape of val_X = (400, 20) and val_Y = (400, 6)\n"
     ]
    }
   ],
   "source": [
    "print(\"Shape of train_X = %s and train_Y = %s\" % (train_X.shape, train_Y.shape))\n",
    "print(\"Shape of val_X = %s and val_Y = %s\" % (val_X.shape, val_Y.shape))"
   ]
  },
  {
   "cell_type": "code",
   "execution_count": 26,
   "metadata": {},
   "outputs": [],
   "source": [
    "#At this point we have our word vectors, output labels, training and validation datasets, and we can append the\n",
    "#message_order value as a feature to the word vectors and feed the data to a model"
   ]
  },
  {
   "cell_type": "code",
   "execution_count": 27,
   "metadata": {},
   "outputs": [],
   "source": [
    "#But our data is multilingual, to deal with that, we can first separate the data based on language and then train our model"
   ]
  },
  {
   "cell_type": "code",
   "execution_count": 28,
   "metadata": {},
   "outputs": [],
   "source": [
    "#Using LSTM\n",
    "\n",
    "def create_model(vocab_size, max_length):\n",
    "  model = Sequential()\n",
    "  model.add(Embedding(vocab_size, 128, input_length = max_length, trainable = False))\n",
    "  model.add(Bidirectional(LSTM(128)))\n",
    "#   model.add(LSTM(128))\n",
    "  model.add(Dense(32, activation = \"relu\"))\n",
    "  model.add(Dropout(0.5))\n",
    "  model.add(Dense(6, activation = \"softmax\"))\n",
    "  \n",
    "  return model"
   ]
  },
  {
   "cell_type": "code",
   "execution_count": 29,
   "metadata": {},
   "outputs": [
    {
     "name": "stderr",
     "output_type": "stream",
     "text": [
      "WARNING: Logging before flag parsing goes to stderr.\n",
      "W0728 22:19:22.079233 14440 deprecation_wrapper.py:119] From C:\\Users\\asus\\Anaconda3\\envs\\deeplearning\\lib\\site-packages\\keras\\backend\\tensorflow_backend.py:74: The name tf.get_default_graph is deprecated. Please use tf.compat.v1.get_default_graph instead.\n",
      "\n",
      "W0728 22:19:22.099357 14440 deprecation_wrapper.py:119] From C:\\Users\\asus\\Anaconda3\\envs\\deeplearning\\lib\\site-packages\\keras\\backend\\tensorflow_backend.py:517: The name tf.placeholder is deprecated. Please use tf.compat.v1.placeholder instead.\n",
      "\n",
      "W0728 22:19:22.102242 14440 deprecation_wrapper.py:119] From C:\\Users\\asus\\Anaconda3\\envs\\deeplearning\\lib\\site-packages\\keras\\backend\\tensorflow_backend.py:4138: The name tf.random_uniform is deprecated. Please use tf.random.uniform instead.\n",
      "\n",
      "W0728 22:19:22.529126 14440 deprecation_wrapper.py:119] From C:\\Users\\asus\\Anaconda3\\envs\\deeplearning\\lib\\site-packages\\keras\\backend\\tensorflow_backend.py:133: The name tf.placeholder_with_default is deprecated. Please use tf.compat.v1.placeholder_with_default instead.\n",
      "\n",
      "W0728 22:19:22.539071 14440 deprecation.py:506] From C:\\Users\\asus\\Anaconda3\\envs\\deeplearning\\lib\\site-packages\\keras\\backend\\tensorflow_backend.py:3445: calling dropout (from tensorflow.python.ops.nn_ops) with keep_prob is deprecated and will be removed in a future version.\n",
      "Instructions for updating:\n",
      "Please use `rate` instead of `keep_prob`. Rate should be set to `rate = 1 - keep_prob`.\n",
      "W0728 22:19:22.575996 14440 deprecation_wrapper.py:119] From C:\\Users\\asus\\Anaconda3\\envs\\deeplearning\\lib\\site-packages\\keras\\optimizers.py:790: The name tf.train.Optimizer is deprecated. Please use tf.compat.v1.train.Optimizer instead.\n",
      "\n",
      "W0728 22:19:22.612875 14440 deprecation_wrapper.py:119] From C:\\Users\\asus\\Anaconda3\\envs\\deeplearning\\lib\\site-packages\\keras\\backend\\tensorflow_backend.py:3295: The name tf.log is deprecated. Please use tf.math.log instead.\n",
      "\n"
     ]
    },
    {
     "name": "stdout",
     "output_type": "stream",
     "text": [
      "_________________________________________________________________\n",
      "Layer (type)                 Output Shape              Param #   \n",
      "=================================================================\n",
      "embedding_1 (Embedding)      (None, 20, 128)           103936    \n",
      "_________________________________________________________________\n",
      "bidirectional_1 (Bidirection (None, 256)               263168    \n",
      "_________________________________________________________________\n",
      "dense_1 (Dense)              (None, 32)                8224      \n",
      "_________________________________________________________________\n",
      "dropout_1 (Dropout)          (None, 32)                0         \n",
      "_________________________________________________________________\n",
      "dense_2 (Dense)              (None, 6)                 198       \n",
      "=================================================================\n",
      "Total params: 375,526\n",
      "Trainable params: 271,590\n",
      "Non-trainable params: 103,936\n",
      "_________________________________________________________________\n"
     ]
    }
   ],
   "source": [
    "model = create_model(vocab_size, max_length)\n",
    "\n",
    "model.compile(loss = \"categorical_crossentropy\", optimizer = \"adam\", metrics = [\"accuracy\"])\n",
    "model.summary()"
   ]
  },
  {
   "cell_type": "code",
   "execution_count": 30,
   "metadata": {},
   "outputs": [
    {
     "name": "stderr",
     "output_type": "stream",
     "text": [
      "W0728 22:19:22.833321 14440 deprecation.py:323] From C:\\Users\\asus\\Anaconda3\\envs\\deeplearning\\lib\\site-packages\\tensorflow\\python\\ops\\math_grad.py:1250: add_dispatch_support.<locals>.wrapper (from tensorflow.python.ops.array_ops) is deprecated and will be removed in a future version.\n",
      "Instructions for updating:\n",
      "Use tf.where in 2.0, which has the same broadcast rule as np.where\n"
     ]
    },
    {
     "name": "stdout",
     "output_type": "stream",
     "text": [
      "Train on 1600 samples, validate on 400 samples\n",
      "Epoch 1/50\n",
      "1600/1600 [==============================] - 5s 3ms/step - loss: 1.6599 - acc: 0.3419 - val_loss: 1.4810 - val_acc: 0.4275\n",
      "\n",
      "Epoch 00001: val_loss improved from inf to 1.48099, saving model to model.h5\n",
      "Epoch 2/50\n",
      "1600/1600 [==============================] - 3s 2ms/step - loss: 1.4891 - acc: 0.4450 - val_loss: 1.3019 - val_acc: 0.5125\n",
      "\n",
      "Epoch 00002: val_loss improved from 1.48099 to 1.30186, saving model to model.h5\n",
      "Epoch 3/50\n",
      "1600/1600 [==============================] - 2s 1ms/step - loss: 1.3504 - acc: 0.5200 - val_loss: 1.1264 - val_acc: 0.6450\n",
      "\n",
      "Epoch 00003: val_loss improved from 1.30186 to 1.12639, saving model to model.h5\n",
      "Epoch 4/50\n",
      "1600/1600 [==============================] - 2s 1ms/step - loss: 1.2003 - acc: 0.5931 - val_loss: 0.9738 - val_acc: 0.6475\n",
      "\n",
      "Epoch 00004: val_loss improved from 1.12639 to 0.97382, saving model to model.h5\n",
      "Epoch 5/50\n",
      "1600/1600 [==============================] - 2s 1ms/step - loss: 1.0878 - acc: 0.6212 - val_loss: 0.8917 - val_acc: 0.7050\n",
      "\n",
      "Epoch 00005: val_loss improved from 0.97382 to 0.89171, saving model to model.h5\n",
      "Epoch 6/50\n",
      "1600/1600 [==============================] - 2s 2ms/step - loss: 0.9843 - acc: 0.6656 - val_loss: 0.7935 - val_acc: 0.7225\n",
      "\n",
      "Epoch 00006: val_loss improved from 0.89171 to 0.79347, saving model to model.h5\n",
      "Epoch 7/50\n",
      "1600/1600 [==============================] - 2s 2ms/step - loss: 0.9191 - acc: 0.6894 - val_loss: 0.7175 - val_acc: 0.7600\n",
      "\n",
      "Epoch 00007: val_loss improved from 0.79347 to 0.71752, saving model to model.h5\n",
      "Epoch 8/50\n",
      "1600/1600 [==============================] - 2s 1ms/step - loss: 0.8357 - acc: 0.7144 - val_loss: 0.6989 - val_acc: 0.7475\n",
      "\n",
      "Epoch 00008: val_loss improved from 0.71752 to 0.69891, saving model to model.h5\n",
      "Epoch 9/50\n",
      "1600/1600 [==============================] - 2s 1ms/step - loss: 0.7821 - acc: 0.7400 - val_loss: 0.6510 - val_acc: 0.7850\n",
      "\n",
      "Epoch 00009: val_loss improved from 0.69891 to 0.65104, saving model to model.h5\n",
      "Epoch 10/50\n",
      "1600/1600 [==============================] - 2s 1ms/step - loss: 0.7440 - acc: 0.7625 - val_loss: 0.5701 - val_acc: 0.8075\n",
      "\n",
      "Epoch 00010: val_loss improved from 0.65104 to 0.57014, saving model to model.h5\n",
      "Epoch 11/50\n",
      "1600/1600 [==============================] - 2s 1ms/step - loss: 0.7033 - acc: 0.7656 - val_loss: 0.5616 - val_acc: 0.8200\n",
      "\n",
      "Epoch 00011: val_loss improved from 0.57014 to 0.56159, saving model to model.h5\n",
      "Epoch 12/50\n",
      "1600/1600 [==============================] - 2s 1ms/step - loss: 0.6520 - acc: 0.7913 - val_loss: 0.5469 - val_acc: 0.8300\n",
      "\n",
      "Epoch 00012: val_loss improved from 0.56159 to 0.54686, saving model to model.h5\n",
      "Epoch 13/50\n",
      "1600/1600 [==============================] - 3s 2ms/step - loss: 0.6407 - acc: 0.7881 - val_loss: 0.4976 - val_acc: 0.8575\n",
      "\n",
      "Epoch 00013: val_loss improved from 0.54686 to 0.49761, saving model to model.h5\n",
      "Epoch 14/50\n",
      "1600/1600 [==============================] - 2s 2ms/step - loss: 0.5829 - acc: 0.8100 - val_loss: 0.4887 - val_acc: 0.8475\n",
      "\n",
      "Epoch 00014: val_loss improved from 0.49761 to 0.48868, saving model to model.h5\n",
      "Epoch 15/50\n",
      "1600/1600 [==============================] - 2s 1ms/step - loss: 0.5891 - acc: 0.8162 - val_loss: 0.4607 - val_acc: 0.8550\n",
      "\n",
      "Epoch 00015: val_loss improved from 0.48868 to 0.46068, saving model to model.h5\n",
      "Epoch 16/50\n",
      "1600/1600 [==============================] - 2s 2ms/step - loss: 0.5802 - acc: 0.8263 - val_loss: 0.4559 - val_acc: 0.8525\n",
      "\n",
      "Epoch 00016: val_loss improved from 0.46068 to 0.45589, saving model to model.h5\n",
      "Epoch 17/50\n",
      "1600/1600 [==============================] - 3s 2ms/step - loss: 0.5358 - acc: 0.8381 - val_loss: 0.4357 - val_acc: 0.8650\n",
      "\n",
      "Epoch 00017: val_loss improved from 0.45589 to 0.43574, saving model to model.h5\n",
      "Epoch 18/50\n",
      "1600/1600 [==============================] - 3s 2ms/step - loss: 0.4934 - acc: 0.8456 - val_loss: 0.4357 - val_acc: 0.8625\n",
      "\n",
      "Epoch 00018: val_loss did not improve from 0.43574\n",
      "Epoch 19/50\n",
      "1600/1600 [==============================] - 2s 1ms/step - loss: 0.4970 - acc: 0.8387 - val_loss: 0.4369 - val_acc: 0.8650\n",
      "\n",
      "Epoch 00019: val_loss did not improve from 0.43574\n",
      "Epoch 20/50\n",
      "1600/1600 [==============================] - 2s 1ms/step - loss: 0.4828 - acc: 0.8550 - val_loss: 0.4217 - val_acc: 0.8750\n",
      "\n",
      "Epoch 00020: val_loss improved from 0.43574 to 0.42172, saving model to model.h5\n",
      "Epoch 21/50\n",
      "1600/1600 [==============================] - 2s 1ms/step - loss: 0.4767 - acc: 0.8538 - val_loss: 0.4148 - val_acc: 0.8750\n",
      "\n",
      "Epoch 00021: val_loss improved from 0.42172 to 0.41479, saving model to model.h5\n",
      "Epoch 22/50\n",
      "1600/1600 [==============================] - 2s 2ms/step - loss: 0.4375 - acc: 0.8656 - val_loss: 0.4679 - val_acc: 0.8650\n",
      "\n",
      "Epoch 00022: val_loss did not improve from 0.41479\n",
      "Epoch 23/50\n",
      "1600/1600 [==============================] - 2s 1ms/step - loss: 0.4707 - acc: 0.8556 - val_loss: 0.4227 - val_acc: 0.8525\n",
      "\n",
      "Epoch 00023: val_loss did not improve from 0.41479\n",
      "Epoch 24/50\n",
      "1600/1600 [==============================] - 3s 2ms/step - loss: 0.4194 - acc: 0.8694 - val_loss: 0.4565 - val_acc: 0.8750\n",
      "\n",
      "Epoch 00024: val_loss did not improve from 0.41479\n",
      "Epoch 25/50\n",
      "1600/1600 [==============================] - 3s 2ms/step - loss: 0.4216 - acc: 0.8800 - val_loss: 0.3800 - val_acc: 0.8725\n",
      "\n",
      "Epoch 00025: val_loss improved from 0.41479 to 0.37997, saving model to model.h5\n",
      "Epoch 26/50\n",
      "1600/1600 [==============================] - 2s 1ms/step - loss: 0.3940 - acc: 0.8856 - val_loss: 0.3764 - val_acc: 0.8700\n",
      "\n",
      "Epoch 00026: val_loss improved from 0.37997 to 0.37639, saving model to model.h5\n",
      "Epoch 27/50\n",
      "1600/1600 [==============================] - 2s 2ms/step - loss: 0.3723 - acc: 0.8906 - val_loss: 0.3850 - val_acc: 0.8750\n",
      "\n",
      "Epoch 00027: val_loss did not improve from 0.37639\n",
      "Epoch 28/50\n",
      "1600/1600 [==============================] - 3s 2ms/step - loss: 0.3666 - acc: 0.8850 - val_loss: 0.3903 - val_acc: 0.8825\n",
      "\n",
      "Epoch 00028: val_loss did not improve from 0.37639\n",
      "Epoch 29/50\n",
      "1600/1600 [==============================] - 3s 2ms/step - loss: 0.3487 - acc: 0.8962 - val_loss: 0.3945 - val_acc: 0.8800\n",
      "\n",
      "Epoch 00029: val_loss did not improve from 0.37639\n",
      "Epoch 30/50\n",
      "1600/1600 [==============================] - 3s 2ms/step - loss: 0.3522 - acc: 0.8944 - val_loss: 0.3536 - val_acc: 0.8875\n",
      "\n",
      "Epoch 00030: val_loss improved from 0.37639 to 0.35356, saving model to model.h5\n",
      "Epoch 31/50\n",
      "1600/1600 [==============================] - 3s 2ms/step - loss: 0.3514 - acc: 0.9050 - val_loss: 0.3842 - val_acc: 0.8875\n",
      "\n",
      "Epoch 00031: val_loss did not improve from 0.35356\n",
      "Epoch 32/50\n",
      "1600/1600 [==============================] - 2s 1ms/step - loss: 0.3149 - acc: 0.9094 - val_loss: 0.3648 - val_acc: 0.8950\n",
      "\n",
      "Epoch 00032: val_loss did not improve from 0.35356\n",
      "Epoch 33/50\n",
      "1600/1600 [==============================] - 2s 2ms/step - loss: 0.3158 - acc: 0.9094 - val_loss: 0.3652 - val_acc: 0.8725\n",
      "\n",
      "Epoch 00033: val_loss did not improve from 0.35356\n",
      "Epoch 34/50\n",
      "1600/1600 [==============================] - 2s 1ms/step - loss: 0.3128 - acc: 0.9206 - val_loss: 0.3713 - val_acc: 0.8775\n",
      "\n",
      "Epoch 00034: val_loss did not improve from 0.35356\n",
      "Epoch 35/50\n",
      "1600/1600 [==============================] - 3s 2ms/step - loss: 0.3124 - acc: 0.9119 - val_loss: 0.3431 - val_acc: 0.8925\n",
      "\n",
      "Epoch 00035: val_loss improved from 0.35356 to 0.34310, saving model to model.h5\n",
      "Epoch 36/50\n",
      "1600/1600 [==============================] - 3s 2ms/step - loss: 0.3142 - acc: 0.9113 - val_loss: 0.3900 - val_acc: 0.8800\n",
      "\n",
      "Epoch 00036: val_loss did not improve from 0.34310\n",
      "Epoch 37/50\n",
      "1600/1600 [==============================] - 3s 2ms/step - loss: 0.3010 - acc: 0.9106 - val_loss: 0.3648 - val_acc: 0.8900\n",
      "\n",
      "Epoch 00037: val_loss did not improve from 0.34310\n",
      "Epoch 38/50\n",
      "1600/1600 [==============================] - 3s 2ms/step - loss: 0.2895 - acc: 0.9163 - val_loss: 0.3466 - val_acc: 0.8950\n",
      "\n",
      "Epoch 00038: val_loss did not improve from 0.34310\n",
      "Epoch 39/50\n",
      "1600/1600 [==============================] - 3s 2ms/step - loss: 0.2872 - acc: 0.9213 - val_loss: 0.4544 - val_acc: 0.8825\n",
      "\n",
      "Epoch 00039: val_loss did not improve from 0.34310\n",
      "Epoch 40/50\n",
      "1600/1600 [==============================] - 2s 1ms/step - loss: 0.2642 - acc: 0.9263 - val_loss: 0.3649 - val_acc: 0.8950\n",
      "\n",
      "Epoch 00040: val_loss did not improve from 0.34310\n",
      "Epoch 41/50\n"
     ]
    },
    {
     "name": "stdout",
     "output_type": "stream",
     "text": [
      "1600/1600 [==============================] - 2s 1ms/step - loss: 0.2850 - acc: 0.9106 - val_loss: 0.3466 - val_acc: 0.8950\n",
      "\n",
      "Epoch 00041: val_loss did not improve from 0.34310\n",
      "Epoch 42/50\n",
      "1600/1600 [==============================] - 2s 1ms/step - loss: 0.2607 - acc: 0.9281 - val_loss: 0.4143 - val_acc: 0.8775\n",
      "\n",
      "Epoch 00042: val_loss did not improve from 0.34310\n",
      "Epoch 43/50\n",
      "1600/1600 [==============================] - 2s 1ms/step - loss: 0.2511 - acc: 0.9325 - val_loss: 0.4222 - val_acc: 0.8775\n",
      "\n",
      "Epoch 00043: val_loss did not improve from 0.34310\n",
      "Epoch 44/50\n",
      "1600/1600 [==============================] - 2s 1ms/step - loss: 0.2221 - acc: 0.9369 - val_loss: 0.4409 - val_acc: 0.8775\n",
      "\n",
      "Epoch 00044: val_loss did not improve from 0.34310\n",
      "Epoch 45/50\n",
      "1600/1600 [==============================] - 2s 1ms/step - loss: 0.2454 - acc: 0.9375 - val_loss: 0.3578 - val_acc: 0.8900\n",
      "\n",
      "Epoch 00045: val_loss did not improve from 0.34310\n",
      "Epoch 46/50\n",
      "1600/1600 [==============================] - 3s 2ms/step - loss: 0.2387 - acc: 0.9369 - val_loss: 0.3760 - val_acc: 0.8875\n",
      "\n",
      "Epoch 00046: val_loss did not improve from 0.34310\n",
      "Epoch 47/50\n",
      "1600/1600 [==============================] - 3s 2ms/step - loss: 0.2077 - acc: 0.9506 - val_loss: 0.3997 - val_acc: 0.8825\n",
      "\n",
      "Epoch 00047: val_loss did not improve from 0.34310\n",
      "Epoch 48/50\n",
      "1600/1600 [==============================] - 3s 2ms/step - loss: 0.2196 - acc: 0.9412 - val_loss: 0.3776 - val_acc: 0.8950\n",
      "\n",
      "Epoch 00048: val_loss did not improve from 0.34310\n",
      "Epoch 49/50\n",
      "1600/1600 [==============================] - 2s 1ms/step - loss: 0.2315 - acc: 0.9425 - val_loss: 0.3882 - val_acc: 0.8625\n",
      "\n",
      "Epoch 00049: val_loss did not improve from 0.34310\n",
      "Epoch 50/50\n",
      "1600/1600 [==============================] - 3s 2ms/step - loss: 0.2528 - acc: 0.9306 - val_loss: 0.3731 - val_acc: 0.8750\n",
      "\n",
      "Epoch 00050: val_loss did not improve from 0.34310\n"
     ]
    }
   ],
   "source": [
    "filename = 'model.h5'\n",
    "checkpoint = ModelCheckpoint(filename, monitor='val_loss', verbose=1, save_best_only=True, mode='min')\n",
    "\n",
    "hist = model.fit(train_X, train_Y, epochs = 50, batch_size = 32, validation_data = (val_X, val_Y), callbacks = [checkpoint])"
   ]
  },
  {
   "cell_type": "code",
   "execution_count": 31,
   "metadata": {},
   "outputs": [],
   "source": [
    "#We got a validation accuracy 0f ~88%"
   ]
  },
  {
   "cell_type": "code",
   "execution_count": 32,
   "metadata": {},
   "outputs": [
    {
     "data": {
      "text/plain": [
       "['hasLL',\n",
       " 'location',\n",
       " 'location',\n",
       " 'greeting',\n",
       " 'saidOK',\n",
       " 'notInterested',\n",
       " 'dontMeetRequirements',\n",
       " 'location',\n",
       " 'greeting',\n",
       " 'location']"
      ]
     },
     "execution_count": 32,
     "metadata": {},
     "output_type": "execute_result"
    }
   ],
   "source": [
    "#Making some predictions\n",
    "\n",
    "X = [\"I have ll not dl\", 'hy! were your office', 'tell me address', 'Hiiii!', 'oh ohk', 'stop messaging me', \n",
    "     'i dont have bike', 'good morning where is job', 'good morning tell address', \n",
    "     'good morning tell address of job']\n",
    "\n",
    "pred = cleaning(X)\n",
    "vector = word_tokenizer.texts_to_sequences(pred)\n",
    "padded = padding_doc(vector, max_length =19)\n",
    "\n",
    "count = []\n",
    "for i in range(len(pred)):\n",
    "    count.append(len(pred[i]))\n",
    "    \n",
    "count = np.array(count).reshape(len(count),1)\n",
    "padded = np.append(padded, count , axis=1)\n",
    "\n",
    "intent = [inv_map[model.predict_classes(padded)[i] + 1] for i in range(len(X))]\n",
    "intent"
   ]
  }
 ],
 "metadata": {
  "kernelspec": {
   "display_name": "Python 3",
   "language": "python",
   "name": "python3"
  },
  "language_info": {
   "codemirror_mode": {
    "name": "ipython",
    "version": 3
   },
   "file_extension": ".py",
   "mimetype": "text/x-python",
   "name": "python",
   "nbconvert_exporter": "python",
   "pygments_lexer": "ipython3",
   "version": "3.7.3"
  }
 },
 "nbformat": 4,
 "nbformat_minor": 2
}
