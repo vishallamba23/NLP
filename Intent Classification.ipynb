{
 "cells": [
  {
   "cell_type": "code",
   "execution_count": 1,
   "metadata": {},
   "outputs": [
    {
     "name": "stderr",
     "output_type": "stream",
     "text": [
      "Using TensorFlow backend.\n"
     ]
    }
   ],
   "source": [
    "import numpy as np\n",
    "import pandas as pd\n",
    "import matplotlib.pyplot as plt\n",
    "from nltk.corpus import stopwords\n",
    "from nltk.tokenize import word_tokenize\n",
    "import nltk\n",
    "import re\n",
    "from sklearn.preprocessing import OneHotEncoder\n",
    "from keras.preprocessing.text import Tokenizer\n",
    "from keras.preprocessing.sequence import pad_sequences\n",
    "from keras.utils import to_categorical\n",
    "from keras.models import Sequential, load_model\n",
    "from keras.layers import Dense, LSTM, Bidirectional, Embedding, Dropout\n",
    "from keras.callbacks import ModelCheckpoint\n",
    "\n",
    "%matplotlib inline"
   ]
  },
  {
   "cell_type": "code",
   "execution_count": 2,
   "metadata": {},
   "outputs": [
    {
     "data": {
      "text/html": [
       "<div>\n",
       "<style scoped>\n",
       "    .dataframe tbody tr th:only-of-type {\n",
       "        vertical-align: middle;\n",
       "    }\n",
       "\n",
       "    .dataframe tbody tr th {\n",
       "        vertical-align: top;\n",
       "    }\n",
       "\n",
       "    .dataframe thead th {\n",
       "        text-align: right;\n",
       "    }\n",
       "</style>\n",
       "<table border=\"1\" class=\"dataframe\">\n",
       "  <thead>\n",
       "    <tr style=\"text-align: right;\">\n",
       "      <th></th>\n",
       "      <th>data</th>\n",
       "      <th>label</th>\n",
       "    </tr>\n",
       "  </thead>\n",
       "  <tbody>\n",
       "    <tr>\n",
       "      <th>0</th>\n",
       "      <td>{'id': 'KG0OUA', 'data': 'Good morning', 'message_order': 2, 'comments': ['']}</td>\n",
       "      <td>location</td>\n",
       "    </tr>\n",
       "    <tr>\n",
       "      <th>1</th>\n",
       "      <td>{'id': 'L9DC9H', 'data': 'Location', 'message_order': 5, 'comments': ['']}</td>\n",
       "      <td>whoAreYou</td>\n",
       "    </tr>\n",
       "    <tr>\n",
       "      <th>2</th>\n",
       "      <td>{'id': 'ZQR6R5', 'data': 'hi', 'message_order': 5, 'comments': ['']}</td>\n",
       "      <td>whoAreYou</td>\n",
       "    </tr>\n",
       "    <tr>\n",
       "      <th>3</th>\n",
       "      <td>{'id': 'RH0M4E', 'data': 'Hi', 'message_order': 4, 'comments': ['']}</td>\n",
       "      <td>greeting</td>\n",
       "    </tr>\n",
       "    <tr>\n",
       "      <th>4</th>\n",
       "      <td>{'id': 'WLVX8I', 'data': 'Hello', 'message_order': 1, 'comments': ['']}</td>\n",
       "      <td>greeting</td>\n",
       "    </tr>\n",
       "  </tbody>\n",
       "</table>\n",
       "</div>"
      ],
      "text/plain": [
       "                                                                             data  \\\n",
       "0  {'id': 'KG0OUA', 'data': 'Good morning', 'message_order': 2, 'comments': ['']}   \n",
       "1  {'id': 'L9DC9H', 'data': 'Location', 'message_order': 5, 'comments': ['']}       \n",
       "2  {'id': 'ZQR6R5', 'data': 'hi', 'message_order': 5, 'comments': ['']}             \n",
       "3  {'id': 'RH0M4E', 'data': 'Hi', 'message_order': 4, 'comments': ['']}             \n",
       "4  {'id': 'WLVX8I', 'data': 'Hello', 'message_order': 1, 'comments': ['']}          \n",
       "\n",
       "       label  \n",
       "0  location   \n",
       "1  whoAreYou  \n",
       "2  whoAreYou  \n",
       "3  greeting   \n",
       "4  greeting   "
      ]
     },
     "execution_count": 2,
     "metadata": {},
     "output_type": "execute_result"
    }
   ],
   "source": [
    "df = pd.read_csv('TakeHome_task_data.csv')\n",
    "pd.set_option('display.max_colwidth', -1)\n",
    "df.head(5)"
   ]
  },
  {
   "cell_type": "code",
   "execution_count": 3,
   "metadata": {},
   "outputs": [
    {
     "data": {
      "text/html": [
       "<div>\n",
       "<style scoped>\n",
       "    .dataframe tbody tr th:only-of-type {\n",
       "        vertical-align: middle;\n",
       "    }\n",
       "\n",
       "    .dataframe tbody tr th {\n",
       "        vertical-align: top;\n",
       "    }\n",
       "\n",
       "    .dataframe thead th {\n",
       "        text-align: right;\n",
       "    }\n",
       "</style>\n",
       "<table border=\"1\" class=\"dataframe\">\n",
       "  <thead>\n",
       "    <tr style=\"text-align: right;\">\n",
       "      <th></th>\n",
       "      <th>text</th>\n",
       "      <th>message_order</th>\n",
       "      <th>label</th>\n",
       "    </tr>\n",
       "  </thead>\n",
       "  <tbody>\n",
       "    <tr>\n",
       "      <th>0</th>\n",
       "      <td>'Good morning'</td>\n",
       "      <td>2</td>\n",
       "      <td>location</td>\n",
       "    </tr>\n",
       "    <tr>\n",
       "      <th>1</th>\n",
       "      <td>'Location'</td>\n",
       "      <td>5</td>\n",
       "      <td>whoAreYou</td>\n",
       "    </tr>\n",
       "    <tr>\n",
       "      <th>2</th>\n",
       "      <td>'hi'</td>\n",
       "      <td>5</td>\n",
       "      <td>whoAreYou</td>\n",
       "    </tr>\n",
       "    <tr>\n",
       "      <th>3</th>\n",
       "      <td>'Hi'</td>\n",
       "      <td>4</td>\n",
       "      <td>greeting</td>\n",
       "    </tr>\n",
       "    <tr>\n",
       "      <th>4</th>\n",
       "      <td>'Hello'</td>\n",
       "      <td>1</td>\n",
       "      <td>greeting</td>\n",
       "    </tr>\n",
       "  </tbody>\n",
       "</table>\n",
       "</div>"
      ],
      "text/plain": [
       "              text  message_order      label\n",
       "0   'Good morning'  2              location \n",
       "1   'Location'      5              whoAreYou\n",
       "2   'hi'            5              whoAreYou\n",
       "3   'Hi'            4              greeting \n",
       "4   'Hello'         1              greeting "
      ]
     },
     "execution_count": 3,
     "metadata": {},
     "output_type": "execute_result"
    }
   ],
   "source": [
    "#obtaining the important parts of the data from the csv file i.e 'message', 'message_order', 'intent label'\n",
    "\n",
    "ndf = df['data'].str.split(',')\n",
    "\n",
    "ndata = list()\n",
    "for i in range(ndf.size):\n",
    "    ndata.append(ndf[i][1])\n",
    "    \n",
    "final_data = list()\n",
    "for i in range(len(ndata)):\n",
    "    final_data.append(ndata[i].split(':')[1])\n",
    "    \n",
    "m_order = list()\n",
    "for i in range(ndf.size):\n",
    "    if i in (75, 247, 458, 464, 631, 1269, 1459, 1601, 1651, 1803, 1918): #a bit crude but works for now\n",
    "        m_order.append(ndf[i][3])\n",
    "    else:\n",
    "        m_order.append(ndf[i][2])\n",
    "    \n",
    "final_m_order = list()\n",
    "for i in range(len(m_order)):\n",
    "    final_m_order.append(m_order[i].split(':')[1])\n",
    "\n",
    "    \n",
    "data = pd.DataFrame(final_data, columns = ['text']).assign(message_order = final_m_order)\n",
    "data = data.assign(label = df.label)\n",
    "data.text = data.text.apply(str)\n",
    "data.message_order = pd.to_numeric(data.message_order)\n",
    "\n",
    "data.head(5)"
   ]
  },
  {
   "cell_type": "code",
   "execution_count": 4,
   "metadata": {},
   "outputs": [],
   "source": [
    "intent = data.label"
   ]
  },
  {
   "cell_type": "code",
   "execution_count": 5,
   "metadata": {},
   "outputs": [],
   "source": [
    "#I want to look for any relations we can find using the message_order field"
   ]
  },
  {
   "cell_type": "code",
   "execution_count": 6,
   "metadata": {},
   "outputs": [
    {
     "data": {
      "text/plain": [
       "['dontMeetRequirements', 'whoAreYou', 'greeting', 'location', 'notInterested']"
      ]
     },
     "execution_count": 6,
     "metadata": {},
     "output_type": "execute_result"
    }
   ],
   "source": [
    "unique_intents = list(set(data.label))\n",
    "unique_intents"
   ]
  },
  {
   "cell_type": "code",
   "execution_count": 7,
   "metadata": {},
   "outputs": [],
   "source": [
    "data = data.replace({'location': 1,'whoAreYou': 2, 'greeting' : 3, 'dontMeetRequirements' : 4, 'notInterested' : 5})"
   ]
  },
  {
   "cell_type": "code",
   "execution_count": 8,
   "metadata": {},
   "outputs": [],
   "source": [
    "#output pre_processed csv file\n",
    "data.to_csv(r'pre_processed.csv')"
   ]
  },
  {
   "cell_type": "code",
   "execution_count": 9,
   "metadata": {},
   "outputs": [
    {
     "data": {
      "image/png": "[encoded data removed]",
      "text/plain": [
       "<Figure size 432x288 with 1 Axes>"
      ]
     },
     "metadata": {
      "needs_background": "light"
     },
     "output_type": "display_data"
    }
   ],
   "source": [
    "#Visualizing distribution of intent classification over message_orders (the dataset has fewer examples with class = 4,5)\n",
    "\n",
    "x = np.array(data.message_order)\n",
    "y = np.array(data.label)\n",
    "\n",
    "plt.xlabel('Message Order')\n",
    "plt.ylabel('Intent Class')\n",
    "\n",
    "plt.scatter(x,y, alpha = 0.007)\n",
    "plt.show()"
   ]
  },
  {
   "cell_type": "code",
   "execution_count": 10,
   "metadata": {},
   "outputs": [
    {
     "name": "stdout",
     "output_type": "stream",
     "text": [
      "Examples of class 1 = 120\n",
      "Examples of class 2 = 627\n",
      "Examples of class 3 = 619\n",
      "Examples of class 4 = 160\n",
      "Examples of class 5 = 474\n"
     ]
    }
   ],
   "source": [
    "message = np.array(data.text)\n",
    "message_order = np.array(data.message_order)\n",
    "labels = np.array(data.label)\n",
    "\n",
    "for i in range(5):\n",
    "    print('Examples of class ' + str(i+1) + ' =', np.sum(labels == i+1))"
   ]
  },
  {
   "cell_type": "code",
   "execution_count": 11,
   "metadata": {},
   "outputs": [
    {
     "data": {
      "image/png": "[encoded data removed]",
      "text/plain": [
       "<Figure size 432x288 with 6 Axes>"
      ]
     },
     "metadata": {
      "needs_background": "light"
     },
     "output_type": "display_data"
    }
   ],
   "source": [
    "#To see if we can immediately spot any relation between the 'message' and 'message_order', let us vary\n",
    "#one of them while holding the other constant and see the effect on intent class distribution\n",
    "\n",
    "#Let us try to isolate the message 'hi' (600+ training examples) and see if we can find any relation between the\n",
    "#assigned intent and message_order by keeping the text input from user constant i.e 'hi'\n",
    "\n",
    "#if message_order is the order in which the message was sent by the user, then we would expect a lot of message_order = 0 \n",
    "# 'hi' to be greetings.\n",
    "\n",
    "#getting indices for messages that start with 'hi'\n",
    "mask = []\n",
    "for n,m in enumerate(message):\n",
    "    m = m.lower()\n",
    "    if m.startswith('h', 2):\n",
    "        mask.append(n)\n",
    "\n",
    "#now getting the intent class for various message_orders of the similar messages ('hi')\n",
    "a = labels[mask]\n",
    "for i in range(6):\n",
    "    x = a[message_order[mask] == i]\n",
    "    plt.subplot(3, 2, i+1)  \n",
    "    plt.subplots_adjust(wspace = 0.4, hspace = 0.6)\n",
    "    plt.title('message order = ' + str(i) )\n",
    "    plt.hist(x)"
   ]
  },
  {
   "cell_type": "code",
   "execution_count": 13,
   "metadata": {},
   "outputs": [
    {
     "data": {
      "image/png": "[encoded data removed]",
      "text/plain": [
       "<Figure size 432x288 with 6 Axes>"
      ]
     },
     "metadata": {
      "needs_background": "light"
     },
     "output_type": "display_data"
    }
   ],
   "source": [
    "#Now we repeat the same procedure but this time keeping the message_order constant and checking labels for different msgs\n",
    "\n",
    "for i in range(6):\n",
    "    x = labels[message_order == i]\n",
    "    plt.subplot(3, 2, i+1)  \n",
    "    plt.subplots_adjust(wspace = 0.4, hspace = 0.6)\n",
    "    plt.title('message order = ' + str(i) )\n",
    "    plt.hist(x)\n"
   ]
  },
  {
   "cell_type": "code",
   "execution_count": 14,
   "metadata": {},
   "outputs": [],
   "source": [
    "#There doesn't seem to be any plainly relevant relation/feature to be seen here so we shall proceed by implementing a model\n",
    "#as per the usual plan without any special crafted features. Let us begin by preparing the data for numeric conversion"
   ]
  },
  {
   "cell_type": "code",
   "execution_count": 15,
   "metadata": {},
   "outputs": [
    {
     "name": "stderr",
     "output_type": "stream",
     "text": [
      "[nltk_data] Downloading package stopwords to\n",
      "[nltk_data]     C:\\Users\\asus\\AppData\\Roaming\\nltk_data...\n",
      "[nltk_data]   Package stopwords is already up-to-date!\n",
      "[nltk_data] Downloading package punkt to\n",
      "[nltk_data]     C:\\Users\\asus\\AppData\\Roaming\\nltk_data...\n",
      "[nltk_data]   Package punkt is already up-to-date!\n"
     ]
    },
    {
     "data": {
      "text/plain": [
       "True"
      ]
     },
     "execution_count": 15,
     "metadata": {},
     "output_type": "execute_result"
    }
   ],
   "source": [
    "nltk.download(\"stopwords\")\n",
    "nltk.download(\"punkt\")"
   ]
  },
  {
   "cell_type": "code",
   "execution_count": 16,
   "metadata": {},
   "outputs": [],
   "source": [
    "#shifting all data to lowercase and breaking sentences into word tokens\n",
    "\n",
    "def cleaning(message):\n",
    "    words = []\n",
    "    for s in message:\n",
    "        clean = re.sub(r'[^ a-z A-Z 0-9]', \" \", s)\n",
    "        w = word_tokenize(clean)\n",
    "        words.append([i.lower() for i in w])\n",
    "    \n",
    "    return words"
   ]
  },
  {
   "cell_type": "code",
   "execution_count": 17,
   "metadata": {},
   "outputs": [
    {
     "name": "stdout",
     "output_type": "stream",
     "text": [
      "[['sir'], ['k'], ['on', 'thanks'], ['hii'], ['sir', 'i', 'dnt', 'have', 'two', 'wheeler']]\n"
     ]
    }
   ],
   "source": [
    "cleaned_words = cleaning(message)\n",
    "print(cleaned_words[5:10])"
   ]
  },
  {
   "cell_type": "code",
   "execution_count": null,
   "metadata": {},
   "outputs": [],
   "source": []
  },
  {
   "cell_type": "code",
   "execution_count": 42,
   "metadata": {},
   "outputs": [],
   "source": [
    "#standard keras tokenizer procedure\n",
    "\n",
    "def create_tokenizer(words, filters = '!\"#$%&()*+,-./:;<=>?@[\\]^_`{|}~'):\n",
    "  token = Tokenizer(filters = filters)\n",
    "  token.fit_on_texts(words)\n",
    "  return token"
   ]
  },
  {
   "cell_type": "code",
   "execution_count": 43,
   "metadata": {},
   "outputs": [
    {
     "name": "stdout",
     "output_type": "stream",
     "text": [
      "Vocab Size = 812 and Maximum length = 19\n"
     ]
    }
   ],
   "source": [
    "word_tokenizer = create_tokenizer(cleaned_words)\n",
    "vocab_size = len(word_tokenizer.word_index) + 1\n",
    "max_length = len(max(cleaned_words, key = len))\n",
    "\n",
    "print(\"Vocab Size = %d and Maximum length = %d\" % (vocab_size, max_length))"
   ]
  },
  {
   "cell_type": "code",
   "execution_count": 44,
   "metadata": {},
   "outputs": [
    {
     "data": {
      "text/plain": [
       "[[16, 22], [11], [1], [1]]"
      ]
     },
     "execution_count": 44,
     "metadata": {},
     "output_type": "execute_result"
    }
   ],
   "source": [
    "#obtaining the word vectors\n",
    "\n",
    "vectors = word_tokenizer.texts_to_sequences(cleaned_words)\n",
    "vectors[0:4]\n",
    "\n",
    "#using matrix decomposition of co-occurence matrix won't work well here clearly due to the nature of the 'corpus'."
   ]
  },
  {
   "cell_type": "code",
   "execution_count": 45,
   "metadata": {},
   "outputs": [],
   "source": [
    "#adding zero padding to make size of all vectors equal\n",
    "\n",
    "def padding_doc(vectors, max_length):\n",
    "  return(pad_sequences(vectors, maxlen = max_length, padding = \"post\"))\n",
    "\n",
    "padded_doc = padding_doc(vectors, max_length)"
   ]
  },
  {
   "cell_type": "code",
   "execution_count": 46,
   "metadata": {},
   "outputs": [
    {
     "data": {
      "text/plain": [
       "(2000, 20)"
      ]
     },
     "execution_count": 46,
     "metadata": {},
     "output_type": "execute_result"
    }
   ],
   "source": [
    "#Adding message order as an input feature\n",
    "\n",
    "message_order = message_order.reshape(2000,1)\n",
    "\n",
    "padded_doc = np.append(padded_doc, message_order, axis=1)\n",
    "padded_doc.shape"
   ]
  },
  {
   "cell_type": "code",
   "execution_count": 39,
   "metadata": {},
   "outputs": [],
   "source": []
  },
  {
   "cell_type": "code",
   "execution_count": null,
   "metadata": {},
   "outputs": [],
   "source": []
  },
  {
   "cell_type": "code",
   "execution_count": 47,
   "metadata": {},
   "outputs": [],
   "source": [
    "max_length = 20"
   ]
  },
  {
   "cell_type": "code",
   "execution_count": 48,
   "metadata": {},
   "outputs": [
    {
     "name": "stderr",
     "output_type": "stream",
     "text": [
      "C:\\Users\\asus\\Anaconda3\\envs\\deeplearning\\lib\\site-packages\\sklearn\\preprocessing\\_encoders.py:415: FutureWarning: The handling of integer data will change in version 0.22. Currently, the categories are determined based on the range [0, max(values)], while in the future they will be determined based on the unique values.\n",
      "If you want the future behaviour and silence this warning, you can specify \"categories='auto'\".\n",
      "In case you used a LabelEncoder before this OneHotEncoder to convert the categories to integers, then you can now use the OneHotEncoder directly.\n",
      "  warnings.warn(msg, FutureWarning)\n"
     ]
    },
    {
     "data": {
      "text/plain": [
       "(2000, 5)"
      ]
     },
     "execution_count": 48,
     "metadata": {},
     "output_type": "execute_result"
    }
   ],
   "source": [
    "#using one_hot representation for intent labels\n",
    "\n",
    "labels = labels.reshape(2000,1)\n",
    "labels.shape\n",
    "\n",
    "from sklearn.preprocessing import OneHotEncoder\n",
    "encoder = OneHotEncoder(sparse=False)\n",
    "Y_onehot = encoder.fit_transform(labels)\n",
    "Y_onehot.shape"
   ]
  },
  {
   "cell_type": "code",
   "execution_count": 50,
   "metadata": {},
   "outputs": [],
   "source": [
    "from sklearn.model_selection import train_test_split"
   ]
  },
  {
   "cell_type": "code",
   "execution_count": 51,
   "metadata": {},
   "outputs": [],
   "source": [
    "train_X, val_X, train_Y, val_Y = train_test_split(padded_doc, Y_onehot, shuffle = True, test_size = 0.2)"
   ]
  },
  {
   "cell_type": "code",
   "execution_count": 52,
   "metadata": {},
   "outputs": [
    {
     "name": "stdout",
     "output_type": "stream",
     "text": [
      "Shape of train_X = (1600, 20) and train_Y = (1600, 5)\n",
      "Shape of val_X = (400, 20) and val_Y = (400, 5)\n"
     ]
    }
   ],
   "source": [
    "print(\"Shape of train_X = %s and train_Y = %s\" % (train_X.shape, train_Y.shape))\n",
    "print(\"Shape of val_X = %s and val_Y = %s\" % (val_X.shape, val_Y.shape))"
   ]
  },
  {
   "cell_type": "code",
   "execution_count": 29,
   "metadata": {},
   "outputs": [],
   "source": [
    "#At this point we have our word vectors, output labels, training and validation datasets, and we can append the\n",
    "#message_order value as a feature to the word vectors and feed the data to a model"
   ]
  },
  {
   "cell_type": "code",
   "execution_count": 30,
   "metadata": {},
   "outputs": [],
   "source": [
    "#But our data is multilingual, to deal with that, we can first separate the data based on language and then train our model"
   ]
  },
  {
   "cell_type": "code",
   "execution_count": 53,
   "metadata": {},
   "outputs": [],
   "source": [
    "#Using LSTM\n",
    "\n",
    "def create_model(vocab_size, max_length):\n",
    "  model = Sequential()\n",
    "  model.add(Embedding(vocab_size, 128, input_length = max_length, trainable = False))\n",
    "  model.add(Bidirectional(LSTM(128)))\n",
    "#   model.add(LSTM(128))\n",
    "  model.add(Dense(32, activation = \"relu\"))\n",
    "  model.add(Dropout(0.5))\n",
    "  model.add(Dense(5, activation = \"softmax\"))\n",
    "  \n",
    "  return model"
   ]
  },
  {
   "cell_type": "code",
   "execution_count": 54,
   "metadata": {},
   "outputs": [
    {
     "name": "stdout",
     "output_type": "stream",
     "text": [
      "_________________________________________________________________\n",
      "Layer (type)                 Output Shape              Param #   \n",
      "=================================================================\n",
      "embedding_2 (Embedding)      (None, 20, 128)           103936    \n",
      "_________________________________________________________________\n",
      "bidirectional_2 (Bidirection (None, 256)               263168    \n",
      "_________________________________________________________________\n",
      "dense_3 (Dense)              (None, 32)                8224      \n",
      "_________________________________________________________________\n",
      "dropout_2 (Dropout)          (None, 32)                0         \n",
      "_________________________________________________________________\n",
      "dense_4 (Dense)              (None, 5)                 165       \n",
      "=================================================================\n",
      "Total params: 375,493\n",
      "Trainable params: 271,557\n",
      "Non-trainable params: 103,936\n",
      "_________________________________________________________________\n"
     ]
    }
   ],
   "source": [
    "model = create_model(vocab_size, max_length)\n",
    "\n",
    "model.compile(loss = \"categorical_crossentropy\", optimizer = \"adam\", metrics = [\"accuracy\"])\n",
    "model.summary()"
   ]
  },
  {
   "cell_type": "code",
   "execution_count": 55,
   "metadata": {},
   "outputs": [
    {
     "name": "stdout",
     "output_type": "stream",
     "text": [
      "Train on 1600 samples, validate on 400 samples\n",
      "Epoch 1/100\n",
      "1600/1600 [==============================] - 4s 2ms/step - loss: 1.5154 - acc: 0.2888 - val_loss: 1.4309 - val_acc: 0.3000\n",
      "\n",
      "Epoch 00001: val_loss improved from inf to 1.43092, saving model to model.h5\n",
      "Epoch 2/100\n",
      "1600/1600 [==============================] - 2s 1ms/step - loss: 1.4792 - acc: 0.3050 - val_loss: 1.4397 - val_acc: 0.3000\n",
      "\n",
      "Epoch 00002: val_loss did not improve from 1.43092\n",
      "Epoch 3/100\n",
      "1600/1600 [==============================] - 2s 1ms/step - loss: 1.4744 - acc: 0.3075 - val_loss: 1.4367 - val_acc: 0.3375\n",
      "\n",
      "Epoch 00003: val_loss did not improve from 1.43092\n",
      "Epoch 4/100\n",
      "1600/1600 [==============================] - 2s 1ms/step - loss: 1.4643 - acc: 0.3319 - val_loss: 1.4278 - val_acc: 0.3075\n",
      "\n",
      "Epoch 00004: val_loss improved from 1.43092 to 1.42776, saving model to model.h5\n",
      "Epoch 5/100\n",
      "1600/1600 [==============================] - 2s 1ms/step - loss: 1.4635 - acc: 0.3162 - val_loss: 1.4234 - val_acc: 0.3375\n",
      "\n",
      "Epoch 00005: val_loss improved from 1.42776 to 1.42338, saving model to model.h5\n",
      "Epoch 6/100\n",
      "1600/1600 [==============================] - 2s 2ms/step - loss: 1.4573 - acc: 0.3081 - val_loss: 1.4321 - val_acc: 0.3000\n",
      "\n",
      "Epoch 00006: val_loss did not improve from 1.42338\n",
      "Epoch 7/100\n",
      "1600/1600 [==============================] - 3s 2ms/step - loss: 1.4587 - acc: 0.3181 - val_loss: 1.4212 - val_acc: 0.3225\n",
      "\n",
      "Epoch 00007: val_loss improved from 1.42338 to 1.42125, saving model to model.h5\n",
      "Epoch 8/100\n",
      "1600/1600 [==============================] - 2s 2ms/step - loss: 1.4549 - acc: 0.3162 - val_loss: 1.4218 - val_acc: 0.3200\n",
      "\n",
      "Epoch 00008: val_loss did not improve from 1.42125\n",
      "Epoch 9/100\n",
      "1600/1600 [==============================] - 3s 2ms/step - loss: 1.4549 - acc: 0.3044 - val_loss: 1.4210 - val_acc: 0.3425\n",
      "\n",
      "Epoch 00009: val_loss improved from 1.42125 to 1.42099, saving model to model.h5\n",
      "Epoch 10/100\n",
      "1600/1600 [==============================] - 3s 2ms/step - loss: 1.4524 - acc: 0.3175 - val_loss: 1.4222 - val_acc: 0.3025\n",
      "\n",
      "Epoch 00010: val_loss did not improve from 1.42099\n",
      "Epoch 11/100\n",
      "1600/1600 [==============================] - 2s 1ms/step - loss: 1.4547 - acc: 0.2988 - val_loss: 1.4282 - val_acc: 0.3050\n",
      "\n",
      "Epoch 00011: val_loss did not improve from 1.42099\n",
      "Epoch 12/100\n",
      "1600/1600 [==============================] - 2s 1ms/step - loss: 1.4490 - acc: 0.3156 - val_loss: 1.4272 - val_acc: 0.3125\n",
      "\n",
      "Epoch 00012: val_loss did not improve from 1.42099\n",
      "Epoch 13/100\n",
      "1600/1600 [==============================] - 2s 1ms/step - loss: 1.4493 - acc: 0.3137 - val_loss: 1.4252 - val_acc: 0.3325\n",
      "\n",
      "Epoch 00013: val_loss did not improve from 1.42099\n",
      "Epoch 14/100\n",
      "1600/1600 [==============================] - 2s 1ms/step - loss: 1.4514 - acc: 0.3175 - val_loss: 1.4228 - val_acc: 0.3325\n",
      "\n",
      "Epoch 00014: val_loss did not improve from 1.42099\n",
      "Epoch 15/100\n",
      "1600/1600 [==============================] - 2s 1ms/step - loss: 1.4563 - acc: 0.3112 - val_loss: 1.4222 - val_acc: 0.3400\n",
      "\n",
      "Epoch 00015: val_loss did not improve from 1.42099\n",
      "Epoch 16/100\n",
      "1600/1600 [==============================] - 2s 1ms/step - loss: 1.4503 - acc: 0.3137 - val_loss: 1.4313 - val_acc: 0.3300\n",
      "\n",
      "Epoch 00016: val_loss did not improve from 1.42099\n",
      "Epoch 17/100\n",
      "1600/1600 [==============================] - 2s 1ms/step - loss: 1.4461 - acc: 0.3344 - val_loss: 1.4253 - val_acc: 0.3225\n",
      "\n",
      "Epoch 00017: val_loss did not improve from 1.42099\n",
      "Epoch 18/100\n",
      "1600/1600 [==============================] - 2s 1ms/step - loss: 1.4414 - acc: 0.3231 - val_loss: 1.4239 - val_acc: 0.3375\n",
      "\n",
      "Epoch 00018: val_loss did not improve from 1.42099\n",
      "Epoch 19/100\n",
      "1600/1600 [==============================] - 2s 1ms/step - loss: 1.4428 - acc: 0.3119 - val_loss: 1.4322 - val_acc: 0.3225\n",
      "\n",
      "Epoch 00019: val_loss did not improve from 1.42099\n",
      "Epoch 20/100\n",
      "1600/1600 [==============================] - 2s 1ms/step - loss: 1.4398 - acc: 0.3412 - val_loss: 1.4244 - val_acc: 0.3275\n",
      "\n",
      "Epoch 00020: val_loss did not improve from 1.42099\n",
      "Epoch 21/100\n",
      "1600/1600 [==============================] - 2s 1ms/step - loss: 1.4399 - acc: 0.3525 - val_loss: 1.4256 - val_acc: 0.3425\n",
      "\n",
      "Epoch 00021: val_loss did not improve from 1.42099\n",
      "Epoch 22/100\n",
      "1600/1600 [==============================] - 2s 1ms/step - loss: 1.4359 - acc: 0.3412 - val_loss: 1.4245 - val_acc: 0.3250\n",
      "\n",
      "Epoch 00022: val_loss did not improve from 1.42099\n",
      "Epoch 23/100\n",
      "1600/1600 [==============================] - 3s 2ms/step - loss: 1.4271 - acc: 0.3494 - val_loss: 1.4282 - val_acc: 0.3500\n",
      "\n",
      "Epoch 00023: val_loss did not improve from 1.42099\n",
      "Epoch 24/100\n",
      "1600/1600 [==============================] - 3s 2ms/step - loss: 1.4338 - acc: 0.3481 - val_loss: 1.4259 - val_acc: 0.3425\n",
      "\n",
      "Epoch 00024: val_loss did not improve from 1.42099\n",
      "Epoch 25/100\n",
      "1600/1600 [==============================] - 3s 2ms/step - loss: 1.4201 - acc: 0.3481 - val_loss: 1.4218 - val_acc: 0.3425\n",
      "\n",
      "Epoch 00025: val_loss did not improve from 1.42099\n",
      "Epoch 26/100\n",
      "1600/1600 [==============================] - 3s 2ms/step - loss: 1.4212 - acc: 0.3600 - val_loss: 1.4481 - val_acc: 0.3100\n",
      "\n",
      "Epoch 00026: val_loss did not improve from 1.42099\n",
      "Epoch 27/100\n",
      "1600/1600 [==============================] - 2s 1ms/step - loss: 1.4226 - acc: 0.3650 - val_loss: 1.4276 - val_acc: 0.3275\n",
      "\n",
      "Epoch 00027: val_loss did not improve from 1.42099\n",
      "Epoch 28/100\n",
      "1600/1600 [==============================] - 3s 2ms/step - loss: 1.4190 - acc: 0.3631 - val_loss: 1.4285 - val_acc: 0.3350\n",
      "\n",
      "Epoch 00028: val_loss did not improve from 1.42099\n",
      "Epoch 29/100\n",
      "1600/1600 [==============================] - 3s 2ms/step - loss: 1.4117 - acc: 0.3594 - val_loss: 1.4351 - val_acc: 0.3475\n",
      "\n",
      "Epoch 00029: val_loss did not improve from 1.42099\n",
      "Epoch 30/100\n",
      "1600/1600 [==============================] - 3s 2ms/step - loss: 1.4112 - acc: 0.3538 - val_loss: 1.4221 - val_acc: 0.3325\n",
      "\n",
      "Epoch 00030: val_loss did not improve from 1.42099\n",
      "Epoch 31/100\n",
      "1600/1600 [==============================] - 3s 2ms/step - loss: 1.3965 - acc: 0.3656 - val_loss: 1.4303 - val_acc: 0.3375\n",
      "\n",
      "Epoch 00031: val_loss did not improve from 1.42099\n",
      "Epoch 32/100\n",
      "1600/1600 [==============================] - 3s 2ms/step - loss: 1.3906 - acc: 0.3800 - val_loss: 1.4324 - val_acc: 0.3425\n",
      "\n",
      "Epoch 00032: val_loss did not improve from 1.42099\n",
      "Epoch 33/100\n",
      "1600/1600 [==============================] - 3s 2ms/step - loss: 1.3818 - acc: 0.3819 - val_loss: 1.4425 - val_acc: 0.3475\n",
      "\n",
      "Epoch 00033: val_loss did not improve from 1.42099\n",
      "Epoch 34/100\n",
      "1600/1600 [==============================] - 3s 2ms/step - loss: 1.3715 - acc: 0.3756 - val_loss: 1.4487 - val_acc: 0.3150\n",
      "\n",
      "Epoch 00034: val_loss did not improve from 1.42099\n",
      "Epoch 35/100\n",
      "1600/1600 [==============================] - 3s 2ms/step - loss: 1.3866 - acc: 0.3900 - val_loss: 1.4322 - val_acc: 0.3475\n",
      "\n",
      "Epoch 00035: val_loss did not improve from 1.42099\n",
      "Epoch 36/100\n",
      "1600/1600 [==============================] - 3s 2ms/step - loss: 1.3687 - acc: 0.3912 - val_loss: 1.4523 - val_acc: 0.3425\n",
      "\n",
      "Epoch 00036: val_loss did not improve from 1.42099\n",
      "Epoch 37/100\n",
      "1600/1600 [==============================] - 3s 2ms/step - loss: 1.3664 - acc: 0.3912 - val_loss: 1.4411 - val_acc: 0.3475\n",
      "\n",
      "Epoch 00037: val_loss did not improve from 1.42099\n",
      "Epoch 38/100\n",
      "1600/1600 [==============================] - 3s 2ms/step - loss: 1.3590 - acc: 0.4075 - val_loss: 1.4576 - val_acc: 0.3425\n",
      "\n",
      "Epoch 00038: val_loss did not improve from 1.42099\n",
      "Epoch 39/100\n",
      "1600/1600 [==============================] - 3s 2ms/step - loss: 1.3384 - acc: 0.4200 - val_loss: 1.4900 - val_acc: 0.3400\n",
      "\n",
      "Epoch 00039: val_loss did not improve from 1.42099\n",
      "Epoch 40/100\n",
      "1600/1600 [==============================] - 3s 2ms/step - loss: 1.3414 - acc: 0.4169 - val_loss: 1.4716 - val_acc: 0.3450\n",
      "\n",
      "Epoch 00040: val_loss did not improve from 1.42099\n",
      "Epoch 41/100\n",
      "1600/1600 [==============================] - 3s 2ms/step - loss: 1.3294 - acc: 0.4225 - val_loss: 1.4841 - val_acc: 0.3475\n",
      "\n",
      "Epoch 00041: val_loss did not improve from 1.42099\n",
      "Epoch 42/100\n",
      "1600/1600 [==============================] - 3s 2ms/step - loss: 1.3107 - acc: 0.4256 - val_loss: 1.5117 - val_acc: 0.3250\n",
      "\n",
      "Epoch 00042: val_loss did not improve from 1.42099\n",
      "Epoch 43/100\n",
      "1600/1600 [==============================] - 3s 2ms/step - loss: 1.3212 - acc: 0.4150 - val_loss: 1.4831 - val_acc: 0.3450\n"
     ]
    },
    {
     "name": "stdout",
     "output_type": "stream",
     "text": [
      "\n",
      "Epoch 00043: val_loss did not improve from 1.42099\n",
      "Epoch 44/100\n",
      "1600/1600 [==============================] - 2s 1ms/step - loss: 1.3072 - acc: 0.4100 - val_loss: 1.5295 - val_acc: 0.3350\n",
      "\n",
      "Epoch 00044: val_loss did not improve from 1.42099\n",
      "Epoch 45/100\n",
      "1600/1600 [==============================] - 2s 1ms/step - loss: 1.2943 - acc: 0.4250 - val_loss: 1.5325 - val_acc: 0.3425\n",
      "\n",
      "Epoch 00045: val_loss did not improve from 1.42099\n",
      "Epoch 46/100\n",
      "1600/1600 [==============================] - 3s 2ms/step - loss: 1.3125 - acc: 0.4288 - val_loss: 1.4918 - val_acc: 0.3625\n",
      "\n",
      "Epoch 00046: val_loss did not improve from 1.42099\n",
      "Epoch 47/100\n",
      "1600/1600 [==============================] - 3s 2ms/step - loss: 1.2879 - acc: 0.4469 - val_loss: 1.5765 - val_acc: 0.3250\n",
      "\n",
      "Epoch 00047: val_loss did not improve from 1.42099\n",
      "Epoch 48/100\n",
      "1600/1600 [==============================] - 2s 2ms/step - loss: 1.2965 - acc: 0.4338 - val_loss: 1.5194 - val_acc: 0.3475\n",
      "\n",
      "Epoch 00048: val_loss did not improve from 1.42099\n",
      "Epoch 49/100\n",
      "1600/1600 [==============================] - 3s 2ms/step - loss: 1.2572 - acc: 0.4475 - val_loss: 1.5624 - val_acc: 0.3475\n",
      "\n",
      "Epoch 00049: val_loss did not improve from 1.42099\n",
      "Epoch 50/100\n",
      "1600/1600 [==============================] - 3s 2ms/step - loss: 1.2705 - acc: 0.4350 - val_loss: 1.5736 - val_acc: 0.3425\n",
      "\n",
      "Epoch 00050: val_loss did not improve from 1.42099\n",
      "Epoch 51/100\n",
      "1600/1600 [==============================] - 3s 2ms/step - loss: 1.2616 - acc: 0.4394 - val_loss: 1.5859 - val_acc: 0.3425\n",
      "\n",
      "Epoch 00051: val_loss did not improve from 1.42099\n",
      "Epoch 52/100\n",
      "1600/1600 [==============================] - 3s 2ms/step - loss: 1.2424 - acc: 0.4587 - val_loss: 1.6516 - val_acc: 0.3325\n",
      "\n",
      "Epoch 00052: val_loss did not improve from 1.42099\n",
      "Epoch 53/100\n",
      "1600/1600 [==============================] - 3s 2ms/step - loss: 1.2486 - acc: 0.4487 - val_loss: 1.5871 - val_acc: 0.3375\n",
      "\n",
      "Epoch 00053: val_loss did not improve from 1.42099\n",
      "Epoch 54/100\n",
      "1600/1600 [==============================] - 2s 1ms/step - loss: 1.2505 - acc: 0.4506 - val_loss: 1.5772 - val_acc: 0.3400\n",
      "\n",
      "Epoch 00054: val_loss did not improve from 1.42099\n",
      "Epoch 55/100\n",
      "1600/1600 [==============================] - 2s 1ms/step - loss: 1.2357 - acc: 0.4644 - val_loss: 1.6653 - val_acc: 0.3325\n",
      "\n",
      "Epoch 00055: val_loss did not improve from 1.42099\n",
      "Epoch 56/100\n",
      "1600/1600 [==============================] - 2s 1ms/step - loss: 1.2139 - acc: 0.4694 - val_loss: 1.6286 - val_acc: 0.3425\n",
      "\n",
      "Epoch 00056: val_loss did not improve from 1.42099\n",
      "Epoch 57/100\n",
      "1600/1600 [==============================] - 2s 2ms/step - loss: 1.2132 - acc: 0.4694 - val_loss: 1.6502 - val_acc: 0.3450\n",
      "\n",
      "Epoch 00057: val_loss did not improve from 1.42099\n",
      "Epoch 58/100\n",
      "1600/1600 [==============================] - 2s 2ms/step - loss: 1.2146 - acc: 0.4794 - val_loss: 1.7004 - val_acc: 0.3400\n",
      "\n",
      "Epoch 00058: val_loss did not improve from 1.42099\n",
      "Epoch 59/100\n",
      "1600/1600 [==============================] - 3s 2ms/step - loss: 1.2160 - acc: 0.4631 - val_loss: 1.6375 - val_acc: 0.3450\n",
      "\n",
      "Epoch 00059: val_loss did not improve from 1.42099\n",
      "Epoch 60/100\n",
      "1600/1600 [==============================] - 3s 2ms/step - loss: 1.2004 - acc: 0.4819 - val_loss: 1.7110 - val_acc: 0.3425\n",
      "\n",
      "Epoch 00060: val_loss did not improve from 1.42099\n",
      "Epoch 61/100\n",
      "1600/1600 [==============================] - 3s 2ms/step - loss: 1.1796 - acc: 0.4925 - val_loss: 1.7716 - val_acc: 0.3075\n",
      "\n",
      "Epoch 00061: val_loss did not improve from 1.42099\n",
      "Epoch 62/100\n",
      "1600/1600 [==============================] - 3s 2ms/step - loss: 1.1946 - acc: 0.4731 - val_loss: 1.7112 - val_acc: 0.3400\n",
      "\n",
      "Epoch 00062: val_loss did not improve from 1.42099\n",
      "Epoch 63/100\n",
      "1600/1600 [==============================] - 3s 2ms/step - loss: 1.1788 - acc: 0.4937 - val_loss: 1.8401 - val_acc: 0.3100\n",
      "\n",
      "Epoch 00063: val_loss did not improve from 1.42099\n",
      "Epoch 64/100\n",
      "1600/1600 [==============================] - 2s 2ms/step - loss: 1.1902 - acc: 0.4725 - val_loss: 1.7209 - val_acc: 0.3125\n",
      "\n",
      "Epoch 00064: val_loss did not improve from 1.42099\n",
      "Epoch 65/100\n",
      "1600/1600 [==============================] - 2s 1ms/step - loss: 1.2007 - acc: 0.4763 - val_loss: 1.6286 - val_acc: 0.3450\n",
      "\n",
      "Epoch 00065: val_loss did not improve from 1.42099\n",
      "Epoch 66/100\n",
      "1600/1600 [==============================] - 2s 2ms/step - loss: 1.1833 - acc: 0.4869 - val_loss: 1.7027 - val_acc: 0.3275\n",
      "\n",
      "Epoch 00066: val_loss did not improve from 1.42099\n",
      "Epoch 67/100\n",
      "1600/1600 [==============================] - 3s 2ms/step - loss: 1.1590 - acc: 0.4944 - val_loss: 1.7498 - val_acc: 0.3375\n",
      "\n",
      "Epoch 00067: val_loss did not improve from 1.42099\n",
      "Epoch 68/100\n",
      "1600/1600 [==============================] - 2s 2ms/step - loss: 1.1623 - acc: 0.4856 - val_loss: 1.7478 - val_acc: 0.3400\n",
      "\n",
      "Epoch 00068: val_loss did not improve from 1.42099\n",
      "Epoch 69/100\n",
      "1600/1600 [==============================] - 3s 2ms/step - loss: 1.1627 - acc: 0.4919 - val_loss: 1.8202 - val_acc: 0.3275\n",
      "\n",
      "Epoch 00069: val_loss did not improve from 1.42099\n",
      "Epoch 70/100\n",
      "1600/1600 [==============================] - 3s 2ms/step - loss: 1.1379 - acc: 0.5000 - val_loss: 1.8476 - val_acc: 0.3200\n",
      "\n",
      "Epoch 00070: val_loss did not improve from 1.42099\n",
      "Epoch 71/100\n",
      "1600/1600 [==============================] - 2s 2ms/step - loss: 1.1770 - acc: 0.4931 - val_loss: 1.7423 - val_acc: 0.3350\n",
      "\n",
      "Epoch 00071: val_loss did not improve from 1.42099\n",
      "Epoch 72/100\n",
      "1600/1600 [==============================] - 3s 2ms/step - loss: 1.1479 - acc: 0.5069 - val_loss: 1.7943 - val_acc: 0.3125\n",
      "\n",
      "Epoch 00072: val_loss did not improve from 1.42099\n",
      "Epoch 73/100\n",
      "1600/1600 [==============================] - 3s 2ms/step - loss: 1.2079 - acc: 0.4838 - val_loss: 1.7510 - val_acc: 0.3200\n",
      "\n",
      "Epoch 00073: val_loss did not improve from 1.42099\n",
      "Epoch 74/100\n",
      "1600/1600 [==============================] - 3s 2ms/step - loss: 1.1931 - acc: 0.4919 - val_loss: 1.6952 - val_acc: 0.3375\n",
      "\n",
      "Epoch 00074: val_loss did not improve from 1.42099\n",
      "Epoch 75/100\n",
      "1600/1600 [==============================] - 3s 2ms/step - loss: 1.1401 - acc: 0.5019 - val_loss: 1.7399 - val_acc: 0.2950\n",
      "\n",
      "Epoch 00075: val_loss did not improve from 1.42099\n",
      "Epoch 76/100\n",
      "1600/1600 [==============================] - 3s 2ms/step - loss: 1.1548 - acc: 0.4975 - val_loss: 1.7959 - val_acc: 0.3150\n",
      "\n",
      "Epoch 00076: val_loss did not improve from 1.42099\n",
      "Epoch 77/100\n",
      "1600/1600 [==============================] - 3s 2ms/step - loss: 1.1463 - acc: 0.4919 - val_loss: 1.8117 - val_acc: 0.3250\n",
      "\n",
      "Epoch 00077: val_loss did not improve from 1.42099\n",
      "Epoch 78/100\n",
      "1600/1600 [==============================] - 3s 2ms/step - loss: 1.1230 - acc: 0.5200 - val_loss: 1.8929 - val_acc: 0.3275\n",
      "\n",
      "Epoch 00078: val_loss did not improve from 1.42099\n",
      "Epoch 79/100\n",
      "1600/1600 [==============================] - 2s 2ms/step - loss: 1.1214 - acc: 0.5231 - val_loss: 1.9552 - val_acc: 0.3150\n",
      "\n",
      "Epoch 00079: val_loss did not improve from 1.42099\n",
      "Epoch 80/100\n",
      "1600/1600 [==============================] - 3s 2ms/step - loss: 1.1227 - acc: 0.5200 - val_loss: 1.9249 - val_acc: 0.3125\n",
      "\n",
      "Epoch 00080: val_loss did not improve from 1.42099\n",
      "Epoch 81/100\n",
      "1600/1600 [==============================] - 3s 2ms/step - loss: 1.1112 - acc: 0.5069 - val_loss: 2.0430 - val_acc: 0.3275\n",
      "\n",
      "Epoch 00081: val_loss did not improve from 1.42099\n",
      "Epoch 82/100\n",
      "1600/1600 [==============================] - 3s 2ms/step - loss: 1.1981 - acc: 0.4956 - val_loss: 1.6691 - val_acc: 0.3150\n",
      "\n",
      "Epoch 00082: val_loss did not improve from 1.42099\n",
      "Epoch 83/100\n",
      "1600/1600 [==============================] - 3s 2ms/step - loss: 1.1741 - acc: 0.4994 - val_loss: 1.7247 - val_acc: 0.3350\n",
      "\n",
      "Epoch 00083: val_loss did not improve from 1.42099\n",
      "Epoch 84/100\n",
      "1600/1600 [==============================] - 3s 2ms/step - loss: 1.1409 - acc: 0.4956 - val_loss: 1.8037 - val_acc: 0.3275\n",
      "\n",
      "Epoch 00084: val_loss did not improve from 1.42099\n",
      "Epoch 85/100\n",
      "1600/1600 [==============================] - 3s 2ms/step - loss: 1.1378 - acc: 0.5031 - val_loss: 1.8509 - val_acc: 0.3375\n",
      "\n",
      "Epoch 00085: val_loss did not improve from 1.42099\n",
      "Epoch 86/100\n",
      "1600/1600 [==============================] - 3s 2ms/step - loss: 1.1169 - acc: 0.5200 - val_loss: 1.9323 - val_acc: 0.3325\n",
      "\n",
      "Epoch 00086: val_loss did not improve from 1.42099\n",
      "Epoch 87/100\n",
      "1600/1600 [==============================] - 2s 1ms/step - loss: 1.1010 - acc: 0.5206 - val_loss: 1.9148 - val_acc: 0.3375\n",
      "\n",
      "Epoch 00087: val_loss did not improve from 1.42099\n",
      "Epoch 88/100\n",
      "1600/1600 [==============================] - 2s 1ms/step - loss: 1.1057 - acc: 0.5169 - val_loss: 2.0024 - val_acc: 0.3275\n",
      "\n",
      "Epoch 00088: val_loss did not improve from 1.42099\n",
      "Epoch 89/100\n",
      "1600/1600 [==============================] - 2s 1ms/step - loss: 1.1175 - acc: 0.5119 - val_loss: 1.9371 - val_acc: 0.3100\n",
      "\n",
      "Epoch 00089: val_loss did not improve from 1.42099\n",
      "Epoch 90/100\n",
      "1600/1600 [==============================] - 2s 1ms/step - loss: 1.0864 - acc: 0.5219 - val_loss: 1.9816 - val_acc: 0.3125\n",
      "\n",
      "Epoch 00090: val_loss did not improve from 1.42099\n",
      "Epoch 91/100\n",
      "1600/1600 [==============================] - 2s 1ms/step - loss: 1.0965 - acc: 0.5238 - val_loss: 2.0525 - val_acc: 0.3150\n",
      "\n",
      "Epoch 00091: val_loss did not improve from 1.42099\n",
      "Epoch 92/100\n",
      "1600/1600 [==============================] - 2s 1ms/step - loss: 1.0775 - acc: 0.5350 - val_loss: 2.0926 - val_acc: 0.3300\n",
      "\n",
      "Epoch 00092: val_loss did not improve from 1.42099\n",
      "Epoch 93/100\n",
      "1600/1600 [==============================] - 2s 2ms/step - loss: 1.1197 - acc: 0.5162 - val_loss: 1.8143 - val_acc: 0.2950\n",
      "\n",
      "Epoch 00093: val_loss did not improve from 1.42099\n",
      "Epoch 94/100\n",
      "1600/1600 [==============================] - 3s 2ms/step - loss: 1.1059 - acc: 0.5225 - val_loss: 1.8767 - val_acc: 0.3150\n",
      "\n",
      "Epoch 00094: val_loss did not improve from 1.42099\n",
      "Epoch 95/100\n",
      "1600/1600 [==============================] - 2s 1ms/step - loss: 1.0904 - acc: 0.5256 - val_loss: 1.9223 - val_acc: 0.3150\n",
      "\n",
      "Epoch 00095: val_loss did not improve from 1.42099\n",
      "Epoch 96/100\n",
      "1600/1600 [==============================] - 2s 1ms/step - loss: 1.0738 - acc: 0.5375 - val_loss: 2.0378 - val_acc: 0.3075\n",
      "\n",
      "Epoch 00096: val_loss did not improve from 1.42099\n",
      "Epoch 97/100\n",
      "1600/1600 [==============================] - 2s 1ms/step - loss: 1.0760 - acc: 0.5287 - val_loss: 2.0601 - val_acc: 0.3225\n",
      "\n",
      "Epoch 00097: val_loss did not improve from 1.42099\n",
      "Epoch 98/100\n",
      "1600/1600 [==============================] - 2s 1ms/step - loss: 1.0668 - acc: 0.5344 - val_loss: 2.0972 - val_acc: 0.3025\n",
      "\n",
      "Epoch 00098: val_loss did not improve from 1.42099\n",
      "Epoch 99/100\n",
      "1600/1600 [==============================] - 3s 2ms/step - loss: 1.0663 - acc: 0.5400 - val_loss: 2.1721 - val_acc: 0.3325\n",
      "\n",
      "Epoch 00099: val_loss did not improve from 1.42099\n",
      "Epoch 100/100\n",
      "1600/1600 [==============================] - 2s 2ms/step - loss: 1.0852 - acc: 0.5306 - val_loss: 1.9558 - val_acc: 0.3175\n",
      "\n",
      "Epoch 00100: val_loss did not improve from 1.42099\n"
     ]
    }
   ],
   "source": [
    "filename = 'model.h5'\n",
    "checkpoint = ModelCheckpoint(filename, monitor='val_loss', verbose=1, save_best_only=True, mode='min')\n",
    "\n",
    "hist = model.fit(train_X, train_Y, epochs = 100, batch_size = 32, validation_data = (val_X, val_Y), callbacks = [checkpoint])"
   ]
  },
  {
   "cell_type": "code",
   "execution_count": 35,
   "metadata": {},
   "outputs": [],
   "source": [
    "#We see that even though the training loss is reducing, the validation loss is not and the model is only bit better\n",
    "#than a randomly classifying model.\n",
    "\n",
    "#There could be several reasons for that -\n",
    "\n",
    "#1. Understanding the importance of message_order and its weight in decision making for classification. \n",
    "\n",
    "#2. Need for further pre-processing of data, such as dealing with multiple languages so that vector representations\n",
    "#of the data are more accurate to semantics.\n",
    "\n",
    "#3. The word vectors are very sparse and perhaps need more processing to better represent the data.\n",
    "\n",
    "#4. There are 641 training examples with just the message 'hi' (or 'hello' or some variant). The curious thing \n",
    "#here is that for **entirely same inputs** i.e same (semantically) message 'hi' and same message_order, the assigned intents are all over\n",
    "#the place. Different outputs for same input will make it hard to classify properly."
   ]
  },
  {
   "cell_type": "code",
   "execution_count": 68,
   "metadata": {},
   "outputs": [
    {
     "data": {
      "text/plain": [
       "array([0.2244389 , 0.26932668, 0.2575    , 0.27      , 0.26130653])"
      ]
     },
     "execution_count": 68,
     "metadata": {},
     "output_type": "execute_result"
    }
   ],
   "source": [
    "from sklearn.model_selection import cross_val_score\n",
    "from sklearn.tree import DecisionTreeClassifier\n",
    "clf = DecisionTreeClassifier(random_state=1)\n",
    "\n",
    "cross_val_score(clf, padded_doc, labels, cv = 5)"
   ]
  },
  {
   "cell_type": "code",
   "execution_count": 37,
   "metadata": {},
   "outputs": [],
   "source": [
    "#We see a slightly worse performance using Decision Tree.\n",
    "\n",
    "#Although there is the difference between them that we have used only validation in one but cross-validation in the other.\n",
    "#In case of same performance, we would have preferred the one that has used cross-validation."
   ]
  },
  {
   "cell_type": "code",
   "execution_count": null,
   "metadata": {},
   "outputs": [],
   "source": []
  }
 ],
 "metadata": {
  "kernelspec": {
   "display_name": "Python 3",
   "language": "python",
   "name": "python3"
  },
  "language_info": {
   "codemirror_mode": {
    "name": "ipython",
    "version": 3
   },
   "file_extension": ".py",
   "mimetype": "text/x-python",
   "name": "python",
   "nbconvert_exporter": "python",
   "pygments_lexer": "ipython3",
   "version": "3.7.3"
  }
 },
 "nbformat": 4,
 "nbformat_minor": 2
}
